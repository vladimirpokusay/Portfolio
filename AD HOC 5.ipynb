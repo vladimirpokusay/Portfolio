{
 "cells": [
  {
   "cell_type": "markdown",
   "metadata": {
    "id": "hHMIThkJ2a4K"
   },
   "source": [
    "Мы ищем точки роста на следующий год и хотим исследовать две темы: \n",
    "\n",
    "1. **Тренировки**: как они распределяются во времени и по тренерам, как обстоят дела в разных клубах.\n",
    "2. **Клиентов**: как их можно сегментировать, какие у них привычки."
   ]
  },
  {
   "cell_type": "code",
   "execution_count": 1,
   "metadata": {
    "id": "zGzbjE0B2a4L"
   },
   "outputs": [],
   "source": [
    "import pandas as pd\n",
    "from matplotlib import pyplot as plt\n",
    "import seaborn as sns\n",
    "import datetime"
   ]
  },
  {
   "cell_type": "code",
   "execution_count": 2,
   "metadata": {
    "id": "81m6roIF2a4M"
   },
   "outputs": [],
   "source": [
    "# загружаем данные\n",
    "\n",
    "workouts = pd.read_csv('workouts.csv', parse_dates=['start_at'])\n",
    "users = pd.read_excel('users.xlsx')\n",
    "\n",
    "# сразу создадим новый датафрейм, в котором соединены уроки и пользователи\n",
    "\n",
    "workouts_users =  pd.merge(workouts, users, \n",
    "                     how='left',\n",
    "                     left_on='client_id', right_on='user_id')"
   ]
  },
  {
   "cell_type": "code",
   "execution_count": 3,
   "metadata": {},
   "outputs": [
    {
     "data": {
      "text/html": [
       "<div>\n",
       "<style scoped>\n",
       "    .dataframe tbody tr th:only-of-type {\n",
       "        vertical-align: middle;\n",
       "    }\n",
       "\n",
       "    .dataframe tbody tr th {\n",
       "        vertical-align: top;\n",
       "    }\n",
       "\n",
       "    .dataframe thead th {\n",
       "        text-align: right;\n",
       "    }\n",
       "</style>\n",
       "<table border=\"1\" class=\"dataframe\">\n",
       "  <thead>\n",
       "    <tr style=\"text-align: right;\">\n",
       "      <th></th>\n",
       "      <th>workout_id</th>\n",
       "      <th>cost</th>\n",
       "      <th>start_at</th>\n",
       "      <th>status</th>\n",
       "      <th>workout_schedule_type</th>\n",
       "      <th>client_id</th>\n",
       "      <th>client_status</th>\n",
       "      <th>workout_type</th>\n",
       "      <th>trainer_department</th>\n",
       "      <th>trainer_id</th>\n",
       "    </tr>\n",
       "  </thead>\n",
       "  <tbody>\n",
       "    <tr>\n",
       "      <th>0</th>\n",
       "      <td>30793909</td>\n",
       "      <td>NaN</td>\n",
       "      <td>2020-11-13 12:45:00</td>\n",
       "      <td>success</td>\n",
       "      <td>trial</td>\n",
       "      <td>22034</td>\n",
       "      <td>NaN</td>\n",
       "      <td>general</td>\n",
       "      <td>Sales</td>\n",
       "      <td>10722051</td>\n",
       "    </tr>\n",
       "    <tr>\n",
       "      <th>1</th>\n",
       "      <td>31123309</td>\n",
       "      <td>750.0</td>\n",
       "      <td>2020-11-21 13:00:00</td>\n",
       "      <td>success</td>\n",
       "      <td>regular</td>\n",
       "      <td>22034</td>\n",
       "      <td>new</td>\n",
       "      <td>general</td>\n",
       "      <td>Spartacus</td>\n",
       "      <td>940642</td>\n",
       "    </tr>\n",
       "    <tr>\n",
       "      <th>2</th>\n",
       "      <td>31412167</td>\n",
       "      <td>750.0</td>\n",
       "      <td>2020-11-28 13:00:00</td>\n",
       "      <td>success</td>\n",
       "      <td>regular</td>\n",
       "      <td>22034</td>\n",
       "      <td>new</td>\n",
       "      <td>general</td>\n",
       "      <td>Spartacus</td>\n",
       "      <td>940642</td>\n",
       "    </tr>\n",
       "    <tr>\n",
       "      <th>3</th>\n",
       "      <td>31703605</td>\n",
       "      <td>750.0</td>\n",
       "      <td>2020-12-05 13:00:00</td>\n",
       "      <td>success</td>\n",
       "      <td>regular</td>\n",
       "      <td>22034</td>\n",
       "      <td>active</td>\n",
       "      <td>general</td>\n",
       "      <td>Spartacus</td>\n",
       "      <td>940642</td>\n",
       "    </tr>\n",
       "    <tr>\n",
       "      <th>4</th>\n",
       "      <td>26904500</td>\n",
       "      <td>NaN</td>\n",
       "      <td>2020-08-06 18:20:00</td>\n",
       "      <td>success</td>\n",
       "      <td>trial</td>\n",
       "      <td>88101</td>\n",
       "      <td>NaN</td>\n",
       "      <td>general</td>\n",
       "      <td>Sales</td>\n",
       "      <td>3826530</td>\n",
       "    </tr>\n",
       "  </tbody>\n",
       "</table>\n",
       "</div>"
      ],
      "text/plain": [
       "   workout_id   cost            start_at   status workout_schedule_type  \\\n",
       "0    30793909    NaN 2020-11-13 12:45:00  success                 trial   \n",
       "1    31123309  750.0 2020-11-21 13:00:00  success               regular   \n",
       "2    31412167  750.0 2020-11-28 13:00:00  success               regular   \n",
       "3    31703605  750.0 2020-12-05 13:00:00  success               regular   \n",
       "4    26904500    NaN 2020-08-06 18:20:00  success                 trial   \n",
       "\n",
       "   client_id client_status workout_type trainer_department  trainer_id  \n",
       "0      22034           NaN      general              Sales    10722051  \n",
       "1      22034           new      general          Spartacus      940642  \n",
       "2      22034           new      general          Spartacus      940642  \n",
       "3      22034        active      general          Spartacus      940642  \n",
       "4      88101           NaN      general              Sales     3826530  "
      ]
     },
     "execution_count": 3,
     "metadata": {},
     "output_type": "execute_result"
    }
   ],
   "source": [
    "workouts.head()"
   ]
  },
  {
   "cell_type": "code",
   "execution_count": 4,
   "metadata": {},
   "outputs": [
    {
     "data": {
      "text/html": [
       "<div>\n",
       "<style scoped>\n",
       "    .dataframe tbody tr th:only-of-type {\n",
       "        vertical-align: middle;\n",
       "    }\n",
       "\n",
       "    .dataframe tbody tr th {\n",
       "        vertical-align: top;\n",
       "    }\n",
       "\n",
       "    .dataframe thead th {\n",
       "        text-align: right;\n",
       "    }\n",
       "</style>\n",
       "<table border=\"1\" class=\"dataframe\">\n",
       "  <thead>\n",
       "    <tr style=\"text-align: right;\">\n",
       "      <th></th>\n",
       "      <th>first_contact_datetime</th>\n",
       "      <th>age</th>\n",
       "      <th>free_workout_datetime</th>\n",
       "      <th>first_payment_datetime</th>\n",
       "      <th>workouts_successful</th>\n",
       "      <th>workouts_total</th>\n",
       "      <th>months_active</th>\n",
       "      <th>user_id</th>\n",
       "      <th>region</th>\n",
       "      <th>geo_group</th>\n",
       "    </tr>\n",
       "  </thead>\n",
       "  <tbody>\n",
       "    <tr>\n",
       "      <th>0</th>\n",
       "      <td>2020-08-08 13:57:25</td>\n",
       "      <td>NaN</td>\n",
       "      <td>2020-08-08 19:00:00</td>\n",
       "      <td>2020-08-08 21:18:34</td>\n",
       "      <td>10</td>\n",
       "      <td>13</td>\n",
       "      <td>2</td>\n",
       "      <td>2790000</td>\n",
       "      <td>NaN</td>\n",
       "      <td>СНГ</td>\n",
       "    </tr>\n",
       "    <tr>\n",
       "      <th>1</th>\n",
       "      <td>2020-05-02 00:30:02</td>\n",
       "      <td>NaN</td>\n",
       "      <td>2020-05-05 18:20:00</td>\n",
       "      <td>2020-05-05 18:40:29</td>\n",
       "      <td>26</td>\n",
       "      <td>38</td>\n",
       "      <td>7</td>\n",
       "      <td>780106</td>\n",
       "      <td>NaN</td>\n",
       "      <td>СНГ</td>\n",
       "    </tr>\n",
       "    <tr>\n",
       "      <th>2</th>\n",
       "      <td>2019-06-27 13:10:33</td>\n",
       "      <td>30.0</td>\n",
       "      <td>NaN</td>\n",
       "      <td>2020-03-18 16:06:43</td>\n",
       "      <td>27</td>\n",
       "      <td>33</td>\n",
       "      <td>6</td>\n",
       "      <td>1133376</td>\n",
       "      <td>NaN</td>\n",
       "      <td>СНГ</td>\n",
       "    </tr>\n",
       "    <tr>\n",
       "      <th>3</th>\n",
       "      <td>2020-04-22 15:37:58</td>\n",
       "      <td>22.0</td>\n",
       "      <td>2020-04-27 09:00:00</td>\n",
       "      <td>2020-04-27 09:41:37</td>\n",
       "      <td>59</td>\n",
       "      <td>59</td>\n",
       "      <td>8</td>\n",
       "      <td>1996499</td>\n",
       "      <td>NaN</td>\n",
       "      <td>СНГ</td>\n",
       "    </tr>\n",
       "    <tr>\n",
       "      <th>4</th>\n",
       "      <td>2016-06-23 16:21:40</td>\n",
       "      <td>24.0</td>\n",
       "      <td>2020-04-13 19:00:00</td>\n",
       "      <td>2020-04-13 19:16:51</td>\n",
       "      <td>8</td>\n",
       "      <td>12</td>\n",
       "      <td>2</td>\n",
       "      <td>57899</td>\n",
       "      <td>Москва и Московская область</td>\n",
       "      <td>Москва</td>\n",
       "    </tr>\n",
       "  </tbody>\n",
       "</table>\n",
       "</div>"
      ],
      "text/plain": [
       "  first_contact_datetime   age free_workout_datetime first_payment_datetime  \\\n",
       "0    2020-08-08 13:57:25   NaN   2020-08-08 19:00:00    2020-08-08 21:18:34   \n",
       "1    2020-05-02 00:30:02   NaN   2020-05-05 18:20:00    2020-05-05 18:40:29   \n",
       "2    2019-06-27 13:10:33  30.0                   NaN    2020-03-18 16:06:43   \n",
       "3    2020-04-22 15:37:58  22.0   2020-04-27 09:00:00    2020-04-27 09:41:37   \n",
       "4    2016-06-23 16:21:40  24.0   2020-04-13 19:00:00    2020-04-13 19:16:51   \n",
       "\n",
       "   workouts_successful  workouts_total  months_active  user_id  \\\n",
       "0                   10              13              2  2790000   \n",
       "1                   26              38              7   780106   \n",
       "2                   27              33              6  1133376   \n",
       "3                   59              59              8  1996499   \n",
       "4                    8              12              2    57899   \n",
       "\n",
       "                        region geo_group  \n",
       "0                          NaN       СНГ  \n",
       "1                          NaN       СНГ  \n",
       "2                          NaN       СНГ  \n",
       "3                          NaN       СНГ  \n",
       "4  Москва и Московская область    Москва  "
      ]
     },
     "execution_count": 4,
     "metadata": {},
     "output_type": "execute_result"
    }
   ],
   "source": [
    "users.head()"
   ]
  },
  {
   "cell_type": "code",
   "execution_count": 5,
   "metadata": {
    "id": "SseA6AG_2a4N"
   },
   "outputs": [],
   "source": [
    "workouts['start_at'] = workouts['start_at'].apply(datetime.datetime.date)# отрезаем время\n"
   ]
  },
  {
   "cell_type": "code",
   "execution_count": 6,
   "metadata": {},
   "outputs": [],
   "source": [
    "workouts['start_at'] = pd.to_datetime(workouts['start_at'])"
   ]
  },
  {
   "cell_type": "code",
   "execution_count": 7,
   "metadata": {},
   "outputs": [],
   "source": [
    "workouts = workouts.loc[workouts['start_at'] <= datetime.datetime(2020,11,30)]#дропаем не полный декабрь"
   ]
  },
  {
   "cell_type": "code",
   "execution_count": 8,
   "metadata": {},
   "outputs": [],
   "source": [
    "trainings_by_day = workouts.resample('D',on='start_at')['workout_id'].count()#кол-во тренировок в каждый день"
   ]
  },
  {
   "cell_type": "code",
   "execution_count": 9,
   "metadata": {},
   "outputs": [
    {
     "data": {
      "text/plain": [
       "start_at\n",
       "2020-01-01      1\n",
       "2020-01-02      4\n",
       "2020-01-03      5\n",
       "2020-01-04      5\n",
       "2020-01-05      9\n",
       "             ... \n",
       "2020-11-26    483\n",
       "2020-11-27    379\n",
       "2020-11-28    294\n",
       "2020-11-29    262\n",
       "2020-11-30    458\n",
       "Freq: D, Name: workout_id, Length: 335, dtype: int64"
      ]
     },
     "execution_count": 9,
     "metadata": {},
     "output_type": "execute_result"
    }
   ],
   "source": [
    "trainings_by_day"
   ]
  },
  {
   "cell_type": "code",
   "execution_count": 10,
   "metadata": {},
   "outputs": [
    {
     "data": {
      "image/png": "[encoded data removed]",
      "text/plain": [
       "<Figure size 720x360 with 1 Axes>"
      ]
     },
     "metadata": {
      "needs_background": "light"
     },
     "output_type": "display_data"
    }
   ],
   "source": [
    "plt.figure(figsize=(10, 5)) # размерность\n",
    "plt.title('Распределение количества тренировок по дням')\n",
    "plt.xlabel('Дата')\n",
    "plt.ylabel('Количество тренировок')\n",
    "plt.grid()\n",
    "plt.plot(trainings_by_day) #количество тренировок в каждую неделю \n",
    "plt.show()"
   ]
  },
  {
   "cell_type": "code",
   "execution_count": 11,
   "metadata": {
    "id": "gSOOVr_C2a4P"
   },
   "outputs": [],
   "source": [
    "# выбрали тренеров, которые вели тренировки до 1 ноября\n",
    "trainers_select = workouts['trainer_id'].loc[workouts['start_at'] < '2020-11-01'] \n",
    "\n",
    "# множеством взяли уникальные значения\n",
    "trainers_select = set(trainers_select)"
   ]
  },
  {
   "cell_type": "code",
   "execution_count": 12,
   "metadata": {
    "id": "Uu5kTR_M2a4Q"
   },
   "outputs": [],
   "source": [
    "# взяли тренировки только за ноябрь\n",
    "november_workouts = workouts.loc[workouts['start_at'].dt.month == 11] \n",
    "\n",
    "# берем только активных тренеров\n",
    "november_workouts = november_workouts.loc[november_workouts['trainer_id'].isin(trainers_select)] "
   ]
  },
  {
   "cell_type": "code",
   "execution_count": 13,
   "metadata": {
    "id": "T5tjhbQA2a4R"
   },
   "outputs": [
    {
     "data": {
      "text/html": [
       "<div>\n",
       "<style scoped>\n",
       "    .dataframe tbody tr th:only-of-type {\n",
       "        vertical-align: middle;\n",
       "    }\n",
       "\n",
       "    .dataframe tbody tr th {\n",
       "        vertical-align: top;\n",
       "    }\n",
       "\n",
       "    .dataframe thead th {\n",
       "        text-align: right;\n",
       "    }\n",
       "</style>\n",
       "<table border=\"1\" class=\"dataframe\">\n",
       "  <thead>\n",
       "    <tr style=\"text-align: right;\">\n",
       "      <th></th>\n",
       "      <th>trainer_id</th>\n",
       "      <th>trainer_department</th>\n",
       "      <th>workouts</th>\n",
       "    </tr>\n",
       "  </thead>\n",
       "  <tbody>\n",
       "    <tr>\n",
       "      <th>0</th>\n",
       "      <td>1994</td>\n",
       "      <td>Spartacus</td>\n",
       "      <td>26</td>\n",
       "    </tr>\n",
       "    <tr>\n",
       "      <th>1</th>\n",
       "      <td>4446</td>\n",
       "      <td>Spartacus</td>\n",
       "      <td>9</td>\n",
       "    </tr>\n",
       "    <tr>\n",
       "      <th>2</th>\n",
       "      <td>9256</td>\n",
       "      <td>Spartacus</td>\n",
       "      <td>9</td>\n",
       "    </tr>\n",
       "    <tr>\n",
       "      <th>3</th>\n",
       "      <td>14431</td>\n",
       "      <td>Spartacus</td>\n",
       "      <td>11</td>\n",
       "    </tr>\n",
       "    <tr>\n",
       "      <th>4</th>\n",
       "      <td>15062</td>\n",
       "      <td>Spartacus</td>\n",
       "      <td>8</td>\n",
       "    </tr>\n",
       "  </tbody>\n",
       "</table>\n",
       "</div>"
      ],
      "text/plain": [
       "   trainer_id trainer_department  workouts\n",
       "0        1994          Spartacus        26\n",
       "1        4446          Spartacus         9\n",
       "2        9256          Spartacus         9\n",
       "3       14431          Spartacus        11\n",
       "4       15062          Spartacus         8"
      ]
     },
     "execution_count": 13,
     "metadata": {},
     "output_type": "execute_result"
    }
   ],
   "source": [
    "# кол-во тренировок у каждого тренера\n",
    "workouts_by_trainer = november_workouts.groupby(['trainer_id','trainer_department'])['workout_id'].count() \n",
    "\n",
    "# превращаем series в dataframe, сбрасываем индекс\n",
    "workouts_by_trainer = workouts_by_trainer.reset_index() \n",
    "\n",
    "# переименовываем столбец workout_id, ведь в нем теперь количество тренировок\n",
    "workouts_by_trainer.columns = ['trainer_id','trainer_department','workouts'] \n",
    "\n",
    "workouts_by_trainer.head()"
   ]
  },
  {
   "cell_type": "code",
   "execution_count": 14,
   "metadata": {
    "id": "m0np64-z2a4R"
   },
   "outputs": [
    {
     "data": {
      "text/plain": [
       "{'Athletic',\n",
       " 'Consultant',\n",
       " 'Cycling',\n",
       " 'Dinamo',\n",
       " 'Sales',\n",
       " 'Spartacus',\n",
       " 'Sports Reserves'}"
      ]
     },
     "execution_count": 14,
     "metadata": {},
     "output_type": "execute_result"
    }
   ],
   "source": [
    "# посмотрим, какие у нас есть департаменты\n",
    "departments = set(workouts_by_trainer['trainer_department'])\n",
    "departments"
   ]
  },
  {
   "cell_type": "code",
   "execution_count": 15,
   "metadata": {},
   "outputs": [
    {
     "data": {
      "text/html": [
       "<div>\n",
       "<style scoped>\n",
       "    .dataframe tbody tr th:only-of-type {\n",
       "        vertical-align: middle;\n",
       "    }\n",
       "\n",
       "    .dataframe tbody tr th {\n",
       "        vertical-align: top;\n",
       "    }\n",
       "\n",
       "    .dataframe thead th {\n",
       "        text-align: right;\n",
       "    }\n",
       "</style>\n",
       "<table border=\"1\" class=\"dataframe\">\n",
       "  <thead>\n",
       "    <tr style=\"text-align: right;\">\n",
       "      <th></th>\n",
       "      <th>workouts_date</th>\n",
       "      <th>workouts</th>\n",
       "      <th>week_day_num</th>\n",
       "      <th>week_day_name</th>\n",
       "    </tr>\n",
       "  </thead>\n",
       "  <tbody>\n",
       "    <tr>\n",
       "      <th>0</th>\n",
       "      <td>2020-01-01</td>\n",
       "      <td>1</td>\n",
       "      <td>3</td>\n",
       "      <td>Wednesday</td>\n",
       "    </tr>\n",
       "    <tr>\n",
       "      <th>1</th>\n",
       "      <td>2020-01-02</td>\n",
       "      <td>4</td>\n",
       "      <td>4</td>\n",
       "      <td>Thursday</td>\n",
       "    </tr>\n",
       "    <tr>\n",
       "      <th>2</th>\n",
       "      <td>2020-01-03</td>\n",
       "      <td>5</td>\n",
       "      <td>5</td>\n",
       "      <td>Friday</td>\n",
       "    </tr>\n",
       "    <tr>\n",
       "      <th>3</th>\n",
       "      <td>2020-01-04</td>\n",
       "      <td>5</td>\n",
       "      <td>6</td>\n",
       "      <td>Saturday</td>\n",
       "    </tr>\n",
       "    <tr>\n",
       "      <th>4</th>\n",
       "      <td>2020-01-05</td>\n",
       "      <td>9</td>\n",
       "      <td>7</td>\n",
       "      <td>Sunday</td>\n",
       "    </tr>\n",
       "    <tr>\n",
       "      <th>...</th>\n",
       "      <td>...</td>\n",
       "      <td>...</td>\n",
       "      <td>...</td>\n",
       "      <td>...</td>\n",
       "    </tr>\n",
       "    <tr>\n",
       "      <th>330</th>\n",
       "      <td>2020-11-26</td>\n",
       "      <td>483</td>\n",
       "      <td>4</td>\n",
       "      <td>Thursday</td>\n",
       "    </tr>\n",
       "    <tr>\n",
       "      <th>331</th>\n",
       "      <td>2020-11-27</td>\n",
       "      <td>379</td>\n",
       "      <td>5</td>\n",
       "      <td>Friday</td>\n",
       "    </tr>\n",
       "    <tr>\n",
       "      <th>332</th>\n",
       "      <td>2020-11-28</td>\n",
       "      <td>294</td>\n",
       "      <td>6</td>\n",
       "      <td>Saturday</td>\n",
       "    </tr>\n",
       "    <tr>\n",
       "      <th>333</th>\n",
       "      <td>2020-11-29</td>\n",
       "      <td>262</td>\n",
       "      <td>7</td>\n",
       "      <td>Sunday</td>\n",
       "    </tr>\n",
       "    <tr>\n",
       "      <th>334</th>\n",
       "      <td>2020-11-30</td>\n",
       "      <td>458</td>\n",
       "      <td>1</td>\n",
       "      <td>Monday</td>\n",
       "    </tr>\n",
       "  </tbody>\n",
       "</table>\n",
       "<p>335 rows × 4 columns</p>\n",
       "</div>"
      ],
      "text/plain": [
       "    workouts_date  workouts  week_day_num week_day_name\n",
       "0      2020-01-01         1             3     Wednesday\n",
       "1      2020-01-02         4             4      Thursday\n",
       "2      2020-01-03         5             5        Friday\n",
       "3      2020-01-04         5             6      Saturday\n",
       "4      2020-01-05         9             7        Sunday\n",
       "..            ...       ...           ...           ...\n",
       "330    2020-11-26       483             4      Thursday\n",
       "331    2020-11-27       379             5        Friday\n",
       "332    2020-11-28       294             6      Saturday\n",
       "333    2020-11-29       262             7        Sunday\n",
       "334    2020-11-30       458             1        Monday\n",
       "\n",
       "[335 rows x 4 columns]"
      ]
     },
     "execution_count": 15,
     "metadata": {},
     "output_type": "execute_result"
    }
   ],
   "source": [
    "trainings_by_day_frame = trainings_by_day.reset_index() # сбросим индекс\n",
    "trainings_by_day_frame.columns=['workouts_date', 'workouts'] # переименуем столбцы, чтобы названия соответствовали содержимому\n",
    "trainings_by_day_frame['week_day_num'] = trainings_by_day_frame['workouts_date'].dt.weekday # добавим номер дня недели\n",
    "trainings_by_day_frame['week_day_name'] = trainings_by_day_frame['workouts_date'].dt.day_name() # добавим название дня недели\n",
    "\n",
    "trainings_by_day_frame['week_day_num'] += 1\n",
    "\n",
    "trainings_by_day_frame"
   ]
  },
  {
   "cell_type": "code",
   "execution_count": 16,
   "metadata": {},
   "outputs": [],
   "source": [
    "x = trainings_by_day_frame.groupby(['week_day_num'])['workouts'].mean() \n",
    "# напиши здесь код\n",
    "\n",
    "day_name = {1:'Понедельник',2:'Вторник',3:'Среда',4:'Четверг',5:'Пятница',6:'Суббота',7:'Воскресение'}"
   ]
  },
  {
   "cell_type": "code",
   "execution_count": 17,
   "metadata": {},
   "outputs": [
    {
     "data": {
      "image/png": "[encoded data removed]",
      "text/plain": [
       "<Figure size 720x432 with 1 Axes>"
      ]
     },
     "metadata": {
      "needs_background": "light"
     },
     "output_type": "display_data"
    }
   ],
   "source": [
    "plt.figure(figsize=(10,6))\n",
    "plt.title(\"Среднее количество тренировок в день недели\")\n",
    "plt.xlabel('День недели')\n",
    "plt.ylabel(\"Среднее количество тренировок\")\n",
    "plt.grid()\n",
    "plt.bar(x.index.map(day_name), x, color='#00a4ce', )\n",
    "plt.axhline(x.mean(), \n",
    "            color='red', \n",
    "            linestyle='--', \n",
    "            linewidth=1, \n",
    "            label = 'Cреднее кол-во тренировок')\n",
    "plt.legend()\n",
    "plt.show()\n"
   ]
  },
  {
   "cell_type": "code",
   "execution_count": 18,
   "metadata": {
    "id": "I_dUupFW2a4T"
   },
   "outputs": [],
   "source": [
    "#выбрали тренеров, которые вели тренировки до 1 ноября\n",
    "trainers_select = workouts['trainer_id'].loc[workouts['start_at'] < '2020-11-01'] \n",
    "\n",
    "#множеством взяли уникальные значения\n",
    "trainers_select = set(trainers_select) "
   ]
  },
  {
   "cell_type": "code",
   "execution_count": 19,
   "metadata": {},
   "outputs": [],
   "source": [
    "# взяли тренировки только за ноябрь\n",
    "november_workouts = workouts.loc[workouts['start_at'].dt.month == 11] \n",
    "\n",
    "# берем только активных тренеров\n",
    "november_workouts = november_workouts.loc[november_workouts['trainer_id'].isin(trainers_select)] "
   ]
  },
  {
   "cell_type": "code",
   "execution_count": 20,
   "metadata": {},
   "outputs": [
    {
     "data": {
      "text/html": [
       "<div>\n",
       "<style scoped>\n",
       "    .dataframe tbody tr th:only-of-type {\n",
       "        vertical-align: middle;\n",
       "    }\n",
       "\n",
       "    .dataframe tbody tr th {\n",
       "        vertical-align: top;\n",
       "    }\n",
       "\n",
       "    .dataframe thead th {\n",
       "        text-align: right;\n",
       "    }\n",
       "</style>\n",
       "<table border=\"1\" class=\"dataframe\">\n",
       "  <thead>\n",
       "    <tr style=\"text-align: right;\">\n",
       "      <th></th>\n",
       "      <th>trainer_id</th>\n",
       "      <th>trainer_department</th>\n",
       "      <th>workouts</th>\n",
       "    </tr>\n",
       "  </thead>\n",
       "  <tbody>\n",
       "    <tr>\n",
       "      <th>0</th>\n",
       "      <td>1994</td>\n",
       "      <td>Spartacus</td>\n",
       "      <td>26</td>\n",
       "    </tr>\n",
       "    <tr>\n",
       "      <th>1</th>\n",
       "      <td>4446</td>\n",
       "      <td>Spartacus</td>\n",
       "      <td>9</td>\n",
       "    </tr>\n",
       "    <tr>\n",
       "      <th>2</th>\n",
       "      <td>9256</td>\n",
       "      <td>Spartacus</td>\n",
       "      <td>9</td>\n",
       "    </tr>\n",
       "    <tr>\n",
       "      <th>3</th>\n",
       "      <td>14431</td>\n",
       "      <td>Spartacus</td>\n",
       "      <td>11</td>\n",
       "    </tr>\n",
       "    <tr>\n",
       "      <th>4</th>\n",
       "      <td>15062</td>\n",
       "      <td>Spartacus</td>\n",
       "      <td>8</td>\n",
       "    </tr>\n",
       "  </tbody>\n",
       "</table>\n",
       "</div>"
      ],
      "text/plain": [
       "   trainer_id trainer_department  workouts\n",
       "0        1994          Spartacus        26\n",
       "1        4446          Spartacus         9\n",
       "2        9256          Spartacus         9\n",
       "3       14431          Spartacus        11\n",
       "4       15062          Spartacus         8"
      ]
     },
     "execution_count": 20,
     "metadata": {},
     "output_type": "execute_result"
    }
   ],
   "source": [
    "#кол-во тренировок у каждого тренера\n",
    "workouts_by_trainer = november_workouts.groupby(['trainer_id','trainer_department'])['workout_id'].count() \n",
    "\n",
    "# превращаем серию в dataframe, сбрасываем индекс\n",
    "workouts_by_trainer = workouts_by_trainer.reset_index() \n",
    "\n",
    "# переименовываем столбец workout_id, ведь в нем теперь количество тренировок\n",
    "workouts_by_trainer.columns = ['trainer_id','trainer_department','workouts'] \n",
    "\n",
    "workouts_by_trainer.head()"
   ]
  },
  {
   "cell_type": "code",
   "execution_count": 21,
   "metadata": {},
   "outputs": [
    {
     "data": {
      "text/plain": [
       "{'Athletic',\n",
       " 'Consultant',\n",
       " 'Cycling',\n",
       " 'Dinamo',\n",
       " 'Sales',\n",
       " 'Spartacus',\n",
       " 'Sports Reserves'}"
      ]
     },
     "execution_count": 21,
     "metadata": {},
     "output_type": "execute_result"
    }
   ],
   "source": [
    "# посмотрим, какие у нас есть департаменты\n",
    "departments = set(workouts_by_trainer['trainer_department'])\n",
    "departments"
   ]
  },
  {
   "cell_type": "code",
   "execution_count": 22,
   "metadata": {
    "scrolled": true
   },
   "outputs": [
    {
     "data": {
      "image/png": "[encoded data removed]",
      "text/plain": [
       "<Figure size 720x360 with 1 Axes>"
      ]
     },
     "metadata": {
      "needs_background": "light"
     },
     "output_type": "display_data"
    },
    {
     "data": {
      "image/png": "[encoded data removed]",
      "text/plain": [
       "<Figure size 720x360 with 1 Axes>"
      ]
     },
     "metadata": {
      "needs_background": "light"
     },
     "output_type": "display_data"
    },
    {
     "data": {
      "image/png": "[encoded data removed]",
      "text/plain": [
       "<Figure size 720x360 with 1 Axes>"
      ]
     },
     "metadata": {
      "needs_background": "light"
     },
     "output_type": "display_data"
    },
    {
     "data": {
      "image/png": "[encoded data removed]",
      "text/plain": [
       "<Figure size 720x360 with 1 Axes>"
      ]
     },
     "metadata": {
      "needs_background": "light"
     },
     "output_type": "display_data"
    },
    {
     "data": {
      "image/png": "[encoded data removed]",
      "text/plain": [
       "<Figure size 720x360 with 1 Axes>"
      ]
     },
     "metadata": {
      "needs_background": "light"
     },
     "output_type": "display_data"
    },
    {
     "data": {
      "image/png": "[encoded data removed]",
      "text/plain": [
       "<Figure size 720x360 with 1 Axes>"
      ]
     },
     "metadata": {
      "needs_background": "light"
     },
     "output_type": "display_data"
    },
    {
     "data": {
      "image/png": "[encoded data removed]",
      "text/plain": [
       "<Figure size 720x360 with 1 Axes>"
      ]
     },
     "metadata": {
      "needs_background": "light"
     },
     "output_type": "display_data"
    }
   ],
   "source": [
    "for department in departments:\n",
    "    to_hist = workouts_by_trainer.loc[workouts_by_trainer.trainer_department==department].workouts\n",
    "    plt.figure(figsize=(10,5))\n",
    "    plt.xlabel(\"Кол-во тренировок\")\n",
    "    plt.ylabel('Количество тренeров')\n",
    "    plt.hist(to_hist, bins=5, color='red')\n",
    "    plt.grid()\n",
    "    plt.title(\"Число тренировок департамента {} в ноябре\".format(department))\n",
    "   \n",
    "    plt.show()"
   ]
  },
  {
   "cell_type": "code",
   "execution_count": 23,
   "metadata": {
    "id": "WUGBV_R_2a4U"
   },
   "outputs": [
    {
     "data": {
      "text/html": [
       "<div>\n",
       "<style scoped>\n",
       "    .dataframe tbody tr th:only-of-type {\n",
       "        vertical-align: middle;\n",
       "    }\n",
       "\n",
       "    .dataframe tbody tr th {\n",
       "        vertical-align: top;\n",
       "    }\n",
       "\n",
       "    .dataframe thead th {\n",
       "        text-align: right;\n",
       "    }\n",
       "</style>\n",
       "<table border=\"1\" class=\"dataframe\">\n",
       "  <thead>\n",
       "    <tr style=\"text-align: right;\">\n",
       "      <th></th>\n",
       "      <th>cost</th>\n",
       "      <th>age</th>\n",
       "      <th>status</th>\n",
       "    </tr>\n",
       "  </thead>\n",
       "  <tbody>\n",
       "    <tr>\n",
       "      <th>0</th>\n",
       "      <td>500</td>\n",
       "      <td>5</td>\n",
       "      <td>0.000000</td>\n",
       "    </tr>\n",
       "    <tr>\n",
       "      <th>1</th>\n",
       "      <td>500</td>\n",
       "      <td>6</td>\n",
       "      <td>0.500000</td>\n",
       "    </tr>\n",
       "    <tr>\n",
       "      <th>2</th>\n",
       "      <td>500</td>\n",
       "      <td>7</td>\n",
       "      <td>0.500000</td>\n",
       "    </tr>\n",
       "    <tr>\n",
       "      <th>3</th>\n",
       "      <td>500</td>\n",
       "      <td>8</td>\n",
       "      <td>0.242424</td>\n",
       "    </tr>\n",
       "    <tr>\n",
       "      <th>4</th>\n",
       "      <td>500</td>\n",
       "      <td>9</td>\n",
       "      <td>0.235294</td>\n",
       "    </tr>\n",
       "    <tr>\n",
       "      <th>...</th>\n",
       "      <td>...</td>\n",
       "      <td>...</td>\n",
       "      <td>...</td>\n",
       "    </tr>\n",
       "    <tr>\n",
       "      <th>185</th>\n",
       "      <td>1500</td>\n",
       "      <td>47</td>\n",
       "      <td>0.000000</td>\n",
       "    </tr>\n",
       "    <tr>\n",
       "      <th>186</th>\n",
       "      <td>1500</td>\n",
       "      <td>49</td>\n",
       "      <td>0.125000</td>\n",
       "    </tr>\n",
       "    <tr>\n",
       "      <th>187</th>\n",
       "      <td>1500</td>\n",
       "      <td>50</td>\n",
       "      <td>0.500000</td>\n",
       "    </tr>\n",
       "    <tr>\n",
       "      <th>188</th>\n",
       "      <td>1500</td>\n",
       "      <td>55</td>\n",
       "      <td>0.187500</td>\n",
       "    </tr>\n",
       "    <tr>\n",
       "      <th>189</th>\n",
       "      <td>1500</td>\n",
       "      <td>68</td>\n",
       "      <td>0.000000</td>\n",
       "    </tr>\n",
       "  </tbody>\n",
       "</table>\n",
       "<p>190 rows × 3 columns</p>\n",
       "</div>"
      ],
      "text/plain": [
       "     cost  age    status\n",
       "0     500    5  0.000000\n",
       "1     500    6  0.500000\n",
       "2     500    7  0.500000\n",
       "3     500    8  0.242424\n",
       "4     500    9  0.235294\n",
       "..    ...  ...       ...\n",
       "185  1500   47  0.000000\n",
       "186  1500   49  0.125000\n",
       "187  1500   50  0.500000\n",
       "188  1500   55  0.187500\n",
       "189  1500   68  0.000000\n",
       "\n",
       "[190 rows x 3 columns]"
      ]
     },
     "execution_count": 23,
     "metadata": {},
     "output_type": "execute_result"
    }
   ],
   "source": [
    "# отфильтровали бесплатные тренировки и сделали копию датафрейма\n",
    "cost_age_data = workouts_users[['status','cost','age']].loc[workouts_users.workout_schedule_type!='trial'].dropna().copy()\n",
    "\n",
    "# Изменяем тип данных столбцов age и cost на int. Это нужно, чтобы на подписях к диаграммам числа были целыми\n",
    "cost_age_data['age'] = cost_age_data['age'].apply(int) \n",
    "cost_age_data['cost'] = cost_age_data['cost'].apply(int)\n",
    "\n",
    "# Кодируем столбец status, присваивая 1 в случаях, если он равен failed_by_client и 0 в случае success\n",
    "cost_age_data['status'] = cost_age_data.status.map({'success':0,'failed_by_client':1})\n",
    "\n",
    "# создаём агрегированные наборы данных\n",
    "cost_age_data_agg = cost_age_data.groupby(['cost','age'])['status'].mean().reset_index() #считаем долю прогулов по возрасту и цене \n",
    "\n",
    "cost_age_data_agg"
   ]
  },
  {
   "cell_type": "code",
   "execution_count": 24,
   "metadata": {
    "id": "sPdkqqix2a4V"
   },
   "outputs": [],
   "source": [
    "# напиши здесь код\n",
    "workouts['trainer_id'] = workouts['trainer_id'].apply(str)"
   ]
  },
  {
   "cell_type": "code",
   "execution_count": 25,
   "metadata": {},
   "outputs": [
    {
     "data": {
      "text/html": [
       "<div>\n",
       "<style scoped>\n",
       "    .dataframe tbody tr th:only-of-type {\n",
       "        vertical-align: middle;\n",
       "    }\n",
       "\n",
       "    .dataframe tbody tr th {\n",
       "        vertical-align: top;\n",
       "    }\n",
       "\n",
       "    .dataframe thead th {\n",
       "        text-align: right;\n",
       "    }\n",
       "</style>\n",
       "<table border=\"1\" class=\"dataframe\">\n",
       "  <thead>\n",
       "    <tr style=\"text-align: right;\">\n",
       "      <th></th>\n",
       "      <th>trainer_id</th>\n",
       "      <th>trainer_department</th>\n",
       "      <th>workout_id</th>\n",
       "    </tr>\n",
       "  </thead>\n",
       "  <tbody>\n",
       "    <tr>\n",
       "      <th>0</th>\n",
       "      <td>10007242</td>\n",
       "      <td>Consultant</td>\n",
       "      <td>11</td>\n",
       "    </tr>\n",
       "    <tr>\n",
       "      <th>1</th>\n",
       "      <td>10007242</td>\n",
       "      <td>Spartacus</td>\n",
       "      <td>48</td>\n",
       "    </tr>\n",
       "    <tr>\n",
       "      <th>2</th>\n",
       "      <td>10011331</td>\n",
       "      <td>Spartacus</td>\n",
       "      <td>5</td>\n",
       "    </tr>\n",
       "    <tr>\n",
       "      <th>3</th>\n",
       "      <td>10011599</td>\n",
       "      <td>Spartacus</td>\n",
       "      <td>12</td>\n",
       "    </tr>\n",
       "    <tr>\n",
       "      <th>4</th>\n",
       "      <td>10012340</td>\n",
       "      <td>Consultant</td>\n",
       "      <td>9</td>\n",
       "    </tr>\n",
       "    <tr>\n",
       "      <th>...</th>\n",
       "      <td>...</td>\n",
       "      <td>...</td>\n",
       "      <td>...</td>\n",
       "    </tr>\n",
       "    <tr>\n",
       "      <th>5336</th>\n",
       "      <td>9989342</td>\n",
       "      <td>Sports Reserves</td>\n",
       "      <td>9</td>\n",
       "    </tr>\n",
       "    <tr>\n",
       "      <th>5337</th>\n",
       "      <td>9994207</td>\n",
       "      <td>Consultant</td>\n",
       "      <td>10</td>\n",
       "    </tr>\n",
       "    <tr>\n",
       "      <th>5338</th>\n",
       "      <td>9994207</td>\n",
       "      <td>Spartacus</td>\n",
       "      <td>36</td>\n",
       "    </tr>\n",
       "    <tr>\n",
       "      <th>5339</th>\n",
       "      <td>9994534</td>\n",
       "      <td>Spartacus</td>\n",
       "      <td>6</td>\n",
       "    </tr>\n",
       "    <tr>\n",
       "      <th>5340</th>\n",
       "      <td>9994915</td>\n",
       "      <td>Consultant</td>\n",
       "      <td>2</td>\n",
       "    </tr>\n",
       "  </tbody>\n",
       "</table>\n",
       "<p>5341 rows × 3 columns</p>\n",
       "</div>"
      ],
      "text/plain": [
       "     trainer_id trainer_department  workout_id\n",
       "0      10007242         Consultant          11\n",
       "1      10007242          Spartacus          48\n",
       "2      10011331          Spartacus           5\n",
       "3      10011599          Spartacus          12\n",
       "4      10012340         Consultant           9\n",
       "...         ...                ...         ...\n",
       "5336    9989342    Sports Reserves           9\n",
       "5337    9994207         Consultant          10\n",
       "5338    9994207          Spartacus          36\n",
       "5339    9994534          Spartacus           6\n",
       "5340    9994915         Consultant           2\n",
       "\n",
       "[5341 rows x 3 columns]"
      ]
     },
     "execution_count": 25,
     "metadata": {},
     "output_type": "execute_result"
    }
   ],
   "source": [
    "data_for_boxplot = workouts.groupby(['trainer_id'\n",
    "                                     ,'trainer_department'\n",
    "                                    ])['workout_id'].count()\n",
    "data_for_boxplot = data_for_boxplot.reset_index()\n",
    "data_for_boxplot"
   ]
  },
  {
   "cell_type": "markdown",
   "metadata": {
    "id": "qrD8Fbx_2a4V"
   },
   "source": [
    "3. **Построй скаттерплот, который покажет корреляцию прогулов к возрасту**\n",
    "    - используй группировку и создай датафрейм, где подсчитан процент прогулов аналогично предподготовленному датафрейму `cost_age_data_agg`, но без цен, только с возрастом\n",
    "    - в функцию, которая строит скаттерплот, можешь добавить любые аргументы, но обязательно используй вот эти:\n",
    "        - размер графика\n",
    "        - название графика\n",
    "        - подпись оси `X`\n",
    "        \n",
    "        - подпись оси `Y`\n",
    "        - задай цвет на графике"
   ]
  },
  {
   "cell_type": "markdown",
   "metadata": {
    "id": "tNPYB8_k2a4X"
   },
   "source": [
    "4. **Построй скаттерплот, который покажет корреляцию прогулов и к возрасту, и к цене одновременно**\n",
    "    - создай словарь цветов и цен в переменной `price_color`. Чтобы увидеть все уникальные значения, можно использовать множества\n",
    "    - в функцию, которая строит скаттерплот, можешь добавить любые аргументы, но обязательно используй вот эти:\n",
    "        - размер графика\n",
    "        - название графика\n",
    "        - подпись оси `X`\n",
    "        \n",
    "        - подпись оси `Y`\n",
    "        - аргумент  `с` - цвета для разных цен\n",
    "          "
   ]
  },
  {
   "cell_type": "code",
   "execution_count": 27,
   "metadata": {
    "id": "1Vw12ktk2a4X"
   },
   "outputs": [
    {
     "data": {
      "image/png": "[encoded data removed]",
      "text/plain": [
       "<Figure size 720x936 with 1 Axes>"
      ]
     },
     "metadata": {
      "needs_background": "light"
     },
     "output_type": "display_data"
    }
   ],
   "source": [
    "plt.figure(figsize=(10, 13)) \n",
    "plt.title('Распределение тренеров по количеству проведенных тренировок по департаментам') \n",
    "sns.boxplot(x='trainer_department',\n",
    "            y='workouts',\n",
    "            data=workouts_by_trainer, \n",
    "            color='y')\n",
    "plt.ylabel('Количество тренировок') # Подпишем ось Y\n",
    "plt.xlabel('Департамент') # Подпишем ось Y\n",
    "plt.show()"
   ]
  },
  {
   "cell_type": "code",
   "execution_count": 28,
   "metadata": {
    "id": "qCfnqkeR2a4Z"
   },
   "outputs": [],
   "source": [
    "# пишем функцию, которая поможет разбить клиентов на возрастные группы\n",
    "\n",
    "def calculate_age_bins(age):\n",
    "    if age <= 20:\n",
    "        return '0-20'\n",
    "    if age <= 25:\n",
    "        return '21-25'\n",
    "    if age <= 30:\n",
    "        return '26-30'\n",
    "    if age <= 35:\n",
    "        return '31-35'\n",
    "    if age <= 40:\n",
    "        return '36-40'\n",
    "    if age <= 45:\n",
    "        return '41-45'\n",
    "    if age <= 50:\n",
    "        return '46-50'\n",
    "    return '50+'"
   ]
  },
  {
   "cell_type": "code",
   "execution_count": 29,
   "metadata": {
    "id": "8CkrOlMa2a4Z",
    "scrolled": true
   },
   "outputs": [
    {
     "data": {
      "text/html": [
       "<div>\n",
       "<style scoped>\n",
       "    .dataframe tbody tr th:only-of-type {\n",
       "        vertical-align: middle;\n",
       "    }\n",
       "\n",
       "    .dataframe tbody tr th {\n",
       "        vertical-align: top;\n",
       "    }\n",
       "\n",
       "    .dataframe thead th {\n",
       "        text-align: right;\n",
       "    }\n",
       "</style>\n",
       "<table border=\"1\" class=\"dataframe\">\n",
       "  <thead>\n",
       "    <tr style=\"text-align: right;\">\n",
       "      <th></th>\n",
       "      <th>cost</th>\n",
       "      <th>age_bin</th>\n",
       "      <th>status</th>\n",
       "    </tr>\n",
       "  </thead>\n",
       "  <tbody>\n",
       "    <tr>\n",
       "      <th>0</th>\n",
       "      <td>500</td>\n",
       "      <td>0-20</td>\n",
       "      <td>0.286578</td>\n",
       "    </tr>\n",
       "    <tr>\n",
       "      <th>1</th>\n",
       "      <td>500</td>\n",
       "      <td>21-25</td>\n",
       "      <td>0.283505</td>\n",
       "    </tr>\n",
       "    <tr>\n",
       "      <th>2</th>\n",
       "      <td>500</td>\n",
       "      <td>26-30</td>\n",
       "      <td>0.255597</td>\n",
       "    </tr>\n",
       "    <tr>\n",
       "      <th>3</th>\n",
       "      <td>500</td>\n",
       "      <td>31-35</td>\n",
       "      <td>0.165217</td>\n",
       "    </tr>\n",
       "    <tr>\n",
       "      <th>4</th>\n",
       "      <td>500</td>\n",
       "      <td>36-40</td>\n",
       "      <td>0.175573</td>\n",
       "    </tr>\n",
       "    <tr>\n",
       "      <th>5</th>\n",
       "      <td>500</td>\n",
       "      <td>41-45</td>\n",
       "      <td>0.191489</td>\n",
       "    </tr>\n",
       "    <tr>\n",
       "      <th>6</th>\n",
       "      <td>500</td>\n",
       "      <td>46-50</td>\n",
       "      <td>0.285714</td>\n",
       "    </tr>\n",
       "    <tr>\n",
       "      <th>7</th>\n",
       "      <td>500</td>\n",
       "      <td>50+</td>\n",
       "      <td>0.307692</td>\n",
       "    </tr>\n",
       "    <tr>\n",
       "      <th>8</th>\n",
       "      <td>750</td>\n",
       "      <td>0-20</td>\n",
       "      <td>0.249445</td>\n",
       "    </tr>\n",
       "    <tr>\n",
       "      <th>9</th>\n",
       "      <td>750</td>\n",
       "      <td>21-25</td>\n",
       "      <td>0.250124</td>\n",
       "    </tr>\n",
       "    <tr>\n",
       "      <th>10</th>\n",
       "      <td>750</td>\n",
       "      <td>26-30</td>\n",
       "      <td>0.249445</td>\n",
       "    </tr>\n",
       "    <tr>\n",
       "      <th>11</th>\n",
       "      <td>750</td>\n",
       "      <td>31-35</td>\n",
       "      <td>0.128114</td>\n",
       "    </tr>\n",
       "    <tr>\n",
       "      <th>12</th>\n",
       "      <td>750</td>\n",
       "      <td>36-40</td>\n",
       "      <td>0.097115</td>\n",
       "    </tr>\n",
       "    <tr>\n",
       "      <th>13</th>\n",
       "      <td>750</td>\n",
       "      <td>41-45</td>\n",
       "      <td>0.109646</td>\n",
       "    </tr>\n",
       "    <tr>\n",
       "      <th>14</th>\n",
       "      <td>750</td>\n",
       "      <td>46-50</td>\n",
       "      <td>0.198748</td>\n",
       "    </tr>\n",
       "    <tr>\n",
       "      <th>15</th>\n",
       "      <td>750</td>\n",
       "      <td>50+</td>\n",
       "      <td>0.296992</td>\n",
       "    </tr>\n",
       "    <tr>\n",
       "      <th>16</th>\n",
       "      <td>1000</td>\n",
       "      <td>0-20</td>\n",
       "      <td>0.206955</td>\n",
       "    </tr>\n",
       "    <tr>\n",
       "      <th>17</th>\n",
       "      <td>1000</td>\n",
       "      <td>21-25</td>\n",
       "      <td>0.190771</td>\n",
       "    </tr>\n",
       "    <tr>\n",
       "      <th>18</th>\n",
       "      <td>1000</td>\n",
       "      <td>26-30</td>\n",
       "      <td>0.191932</td>\n",
       "    </tr>\n",
       "    <tr>\n",
       "      <th>19</th>\n",
       "      <td>1000</td>\n",
       "      <td>31-35</td>\n",
       "      <td>0.069580</td>\n",
       "    </tr>\n",
       "    <tr>\n",
       "      <th>20</th>\n",
       "      <td>1000</td>\n",
       "      <td>36-40</td>\n",
       "      <td>0.035191</td>\n",
       "    </tr>\n",
       "    <tr>\n",
       "      <th>21</th>\n",
       "      <td>1000</td>\n",
       "      <td>41-45</td>\n",
       "      <td>0.067100</td>\n",
       "    </tr>\n",
       "    <tr>\n",
       "      <th>22</th>\n",
       "      <td>1000</td>\n",
       "      <td>46-50</td>\n",
       "      <td>0.171171</td>\n",
       "    </tr>\n",
       "    <tr>\n",
       "      <th>23</th>\n",
       "      <td>1000</td>\n",
       "      <td>50+</td>\n",
       "      <td>0.239130</td>\n",
       "    </tr>\n",
       "    <tr>\n",
       "      <th>24</th>\n",
       "      <td>1500</td>\n",
       "      <td>0-20</td>\n",
       "      <td>0.133663</td>\n",
       "    </tr>\n",
       "    <tr>\n",
       "      <th>25</th>\n",
       "      <td>1500</td>\n",
       "      <td>21-25</td>\n",
       "      <td>0.158784</td>\n",
       "    </tr>\n",
       "    <tr>\n",
       "      <th>26</th>\n",
       "      <td>1500</td>\n",
       "      <td>26-30</td>\n",
       "      <td>0.124706</td>\n",
       "    </tr>\n",
       "    <tr>\n",
       "      <th>27</th>\n",
       "      <td>1500</td>\n",
       "      <td>31-35</td>\n",
       "      <td>0.100313</td>\n",
       "    </tr>\n",
       "    <tr>\n",
       "      <th>28</th>\n",
       "      <td>1500</td>\n",
       "      <td>36-40</td>\n",
       "      <td>0.000000</td>\n",
       "    </tr>\n",
       "    <tr>\n",
       "      <th>29</th>\n",
       "      <td>1500</td>\n",
       "      <td>41-45</td>\n",
       "      <td>0.000000</td>\n",
       "    </tr>\n",
       "    <tr>\n",
       "      <th>30</th>\n",
       "      <td>1500</td>\n",
       "      <td>46-50</td>\n",
       "      <td>0.097561</td>\n",
       "    </tr>\n",
       "    <tr>\n",
       "      <th>31</th>\n",
       "      <td>1500</td>\n",
       "      <td>50+</td>\n",
       "      <td>0.176471</td>\n",
       "    </tr>\n",
       "  </tbody>\n",
       "</table>\n",
       "</div>"
      ],
      "text/plain": [
       "    cost age_bin    status\n",
       "0    500    0-20  0.286578\n",
       "1    500   21-25  0.283505\n",
       "2    500   26-30  0.255597\n",
       "3    500   31-35  0.165217\n",
       "4    500   36-40  0.175573\n",
       "5    500   41-45  0.191489\n",
       "6    500   46-50  0.285714\n",
       "7    500     50+  0.307692\n",
       "8    750    0-20  0.249445\n",
       "9    750   21-25  0.250124\n",
       "10   750   26-30  0.249445\n",
       "11   750   31-35  0.128114\n",
       "12   750   36-40  0.097115\n",
       "13   750   41-45  0.109646\n",
       "14   750   46-50  0.198748\n",
       "15   750     50+  0.296992\n",
       "16  1000    0-20  0.206955\n",
       "17  1000   21-25  0.190771\n",
       "18  1000   26-30  0.191932\n",
       "19  1000   31-35  0.069580\n",
       "20  1000   36-40  0.035191\n",
       "21  1000   41-45  0.067100\n",
       "22  1000   46-50  0.171171\n",
       "23  1000     50+  0.239130\n",
       "24  1500    0-20  0.133663\n",
       "25  1500   21-25  0.158784\n",
       "26  1500   26-30  0.124706\n",
       "27  1500   31-35  0.100313\n",
       "28  1500   36-40  0.000000\n",
       "29  1500   41-45  0.000000\n",
       "30  1500   46-50  0.097561\n",
       "31  1500     50+  0.176471"
      ]
     },
     "execution_count": 29,
     "metadata": {},
     "output_type": "execute_result"
    }
   ],
   "source": [
    "# кладем в новый столбец возрастную группу\n",
    "cost_age_data['age_bin'] = cost_age_data.age.apply(calculate_age_bins)\n",
    "\n",
    "# создаём агрегированный набор данных\n",
    "cost_age_data_agg = cost_age_data.groupby(['cost','age_bin'])['status'].mean().reset_index()\n",
    "cost_age_data_agg"
   ]
  },
  {
   "cell_type": "code",
   "execution_count": 30,
   "metadata": {
    "id": "yCrpExQH2a4Z"
   },
   "outputs": [],
   "source": [
    "heat_cost_age_date_agg = cost_age_data_agg.pivot(index=\"cost\", \n",
    "                                        columns=\"age_bin\", \n",
    "                                        values=\"status\")"
   ]
  },
  {
   "cell_type": "code",
   "execution_count": 31,
   "metadata": {},
   "outputs": [
    {
     "data": {
      "image/png": "[encoded data removed]",
      "text/plain": [
       "<Figure size 1440x576 with 2 Axes>"
      ]
     },
     "metadata": {
      "needs_background": "light"
     },
     "output_type": "display_data"
    }
   ],
   "source": [
    "# напиши здесь код\n",
    "plt.figure(figsize=(20,8))\n",
    "sns.heatmap(heat_cost_age_date_agg, \n",
    "            annot=True, \n",
    "            cmap=\"YlGnBu\")\n",
    "plt.title(\"Тепловая карта прогула тренировки\")\n",
    "plt.ylabel(\"Цена тренировки\")\n",
    "plt.xlabel(\"Возрастная группа\")\n",
    "plt.show()"
   ]
  }
 ],
 "metadata": {
  "colab": {
   "name": "Skills_Python_3.1_homework.ipynb",
   "provenance": []
  },
  "kernelspec": {
   "display_name": "Python 3 (ipykernel)",
   "language": "python",
   "name": "python3"
  },
  "language_info": {
   "codemirror_mode": {
    "name": "ipython",
    "version": 3
   },
   "file_extension": ".py",
   "mimetype": "text/x-python",
   "name": "python",
   "nbconvert_exporter": "python",
   "pygments_lexer": "ipython3",
   "version": "3.9.12"
  }
 },
 "nbformat": 4,
 "nbformat_minor": 1
}
