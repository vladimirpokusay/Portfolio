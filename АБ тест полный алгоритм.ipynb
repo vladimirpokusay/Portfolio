{
 "cells": [
  {
   "cell_type": "code",
   "execution_count": null,
   "id": "79def1d2",
   "metadata": {},
   "outputs": [],
   "source": [
    "Было решено запустить АБ Тест, в котором в тестовой группе предлагается в два раза больше баллов \n",
    "    лояльности за покупку от 100 рублей. \n",
    "\n",
    "Эксперимент был проведен в нескольких торговых точках, которые в датасете представлены столбцом id_point. \n",
    "    Также в датасете есть информация о том, как долго клиент зарегистрирован у нас в программе лояльности.\n",
    "\n",
    "Вам поступил запрос от отдела маркетинга:\n",
    "\n",
    "- Рассчитать результаты эксперимента в целом и в отдельности по каждой торговой точке\n",
    "- Вынести решение об эффективности воздействия Б по сравнению с воздействием А\n",
    "- Сделать сегментацию пользователей с точки зрения длительности регистрации в программе лояльности"
   ]
  },
  {
   "cell_type": "code",
   "execution_count": 1,
   "id": "b54140ce",
   "metadata": {},
   "outputs": [],
   "source": [
    "import pandas as pd\n",
    "import numpy as np\n",
    "import seaborn as sns\n",
    "import matplotlib.pyplot as plt\n",
    "import scipy.stats as stats\n",
    "from scipy.stats import ttest_ind"
   ]
  },
  {
   "cell_type": "code",
   "execution_count": 2,
   "id": "fb810d9c",
   "metadata": {},
   "outputs": [],
   "source": [
    "sc = pd.read_csv('Dataset_AB_TEST.csv',sep=';')"
   ]
  },
  {
   "cell_type": "code",
   "execution_count": 3,
   "id": "9ad23950",
   "metadata": {},
   "outputs": [
    {
     "data": {
      "text/html": [
       "<div>\n",
       "<style scoped>\n",
       "    .dataframe tbody tr th:only-of-type {\n",
       "        vertical-align: middle;\n",
       "    }\n",
       "\n",
       "    .dataframe tbody tr th {\n",
       "        vertical-align: top;\n",
       "    }\n",
       "\n",
       "    .dataframe thead th {\n",
       "        text-align: right;\n",
       "    }\n",
       "</style>\n",
       "<table border=\"1\" class=\"dataframe\">\n",
       "  <thead>\n",
       "    <tr style=\"text-align: right;\">\n",
       "      <th></th>\n",
       "      <th>id_client</th>\n",
       "      <th>id_group</th>\n",
       "      <th>sum_pay</th>\n",
       "      <th>id_point</th>\n",
       "      <th>months_reg</th>\n",
       "    </tr>\n",
       "  </thead>\n",
       "  <tbody>\n",
       "    <tr>\n",
       "      <th>0</th>\n",
       "      <td>1420218</td>\n",
       "      <td>test</td>\n",
       "      <td>3288.0</td>\n",
       "      <td>1199.0</td>\n",
       "      <td>8</td>\n",
       "    </tr>\n",
       "    <tr>\n",
       "      <th>1</th>\n",
       "      <td>1390221</td>\n",
       "      <td>control</td>\n",
       "      <td>1267.0</td>\n",
       "      <td>1182.0</td>\n",
       "      <td>11</td>\n",
       "    </tr>\n",
       "    <tr>\n",
       "      <th>2</th>\n",
       "      <td>1363404</td>\n",
       "      <td>control</td>\n",
       "      <td>4259.0</td>\n",
       "      <td>1178.0</td>\n",
       "      <td>2</td>\n",
       "    </tr>\n",
       "    <tr>\n",
       "      <th>3</th>\n",
       "      <td>1370042</td>\n",
       "      <td>test</td>\n",
       "      <td>7211.0</td>\n",
       "      <td>1179.0</td>\n",
       "      <td>3</td>\n",
       "    </tr>\n",
       "    <tr>\n",
       "      <th>4</th>\n",
       "      <td>1360376</td>\n",
       "      <td>control</td>\n",
       "      <td>760.0</td>\n",
       "      <td>1178.0</td>\n",
       "      <td>14</td>\n",
       "    </tr>\n",
       "  </tbody>\n",
       "</table>\n",
       "</div>"
      ],
      "text/plain": [
       "   id_client id_group  sum_pay  id_point  months_reg\n",
       "0    1420218     test   3288.0    1199.0           8\n",
       "1    1390221  control   1267.0    1182.0          11\n",
       "2    1363404  control   4259.0    1178.0           2\n",
       "3    1370042     test   7211.0    1179.0           3\n",
       "4    1360376  control    760.0    1178.0          14"
      ]
     },
     "execution_count": 3,
     "metadata": {},
     "output_type": "execute_result"
    }
   ],
   "source": [
    "sc.head()"
   ]
  },
  {
   "cell_type": "code",
   "execution_count": 4,
   "id": "c1f5754c",
   "metadata": {},
   "outputs": [
    {
     "name": "stdout",
     "output_type": "stream",
     "text": [
      "<class 'pandas.core.frame.DataFrame'>\n",
      "RangeIndex: 10976 entries, 0 to 10975\n",
      "Data columns (total 5 columns):\n",
      " #   Column      Non-Null Count  Dtype  \n",
      "---  ------      --------------  -----  \n",
      " 0   id_client   10976 non-null  int64  \n",
      " 1   id_group    10902 non-null  object \n",
      " 2   sum_pay     10849 non-null  float64\n",
      " 3   id_point    10895 non-null  float64\n",
      " 4   months_reg  10976 non-null  int64  \n",
      "dtypes: float64(2), int64(2), object(1)\n",
      "memory usage: 428.9+ KB\n"
     ]
    }
   ],
   "source": [
    "sc.info()"
   ]
  },
  {
   "cell_type": "code",
   "execution_count": 5,
   "id": "2de20d49",
   "metadata": {},
   "outputs": [
    {
     "data": {
      "text/plain": [
       "id_client       0\n",
       "id_group       74\n",
       "sum_pay       127\n",
       "id_point       81\n",
       "months_reg      0\n",
       "dtype: int64"
      ]
     },
     "execution_count": 5,
     "metadata": {},
     "output_type": "execute_result"
    }
   ],
   "source": [
    "sc.isnull().sum()\n",
    "# проверяем количество нулов. "
   ]
  },
  {
   "cell_type": "code",
   "execution_count": 6,
   "id": "5e2fa89b",
   "metadata": {},
   "outputs": [
    {
     "data": {
      "text/html": [
       "<div>\n",
       "<style scoped>\n",
       "    .dataframe tbody tr th:only-of-type {\n",
       "        vertical-align: middle;\n",
       "    }\n",
       "\n",
       "    .dataframe tbody tr th {\n",
       "        vertical-align: top;\n",
       "    }\n",
       "\n",
       "    .dataframe thead th {\n",
       "        text-align: right;\n",
       "    }\n",
       "</style>\n",
       "<table border=\"1\" class=\"dataframe\">\n",
       "  <thead>\n",
       "    <tr style=\"text-align: right;\">\n",
       "      <th></th>\n",
       "      <th>id_client</th>\n",
       "      <th>sum_pay</th>\n",
       "      <th>id_point</th>\n",
       "      <th>months_reg</th>\n",
       "    </tr>\n",
       "  </thead>\n",
       "  <tbody>\n",
       "    <tr>\n",
       "      <th>count</th>\n",
       "      <td>1.097600e+04</td>\n",
       "      <td>10849.000000</td>\n",
       "      <td>10895.000000</td>\n",
       "      <td>10976.000000</td>\n",
       "    </tr>\n",
       "    <tr>\n",
       "      <th>mean</th>\n",
       "      <td>1.373018e+06</td>\n",
       "      <td>3568.751037</td>\n",
       "      <td>1180.040385</td>\n",
       "      <td>4.717566</td>\n",
       "    </tr>\n",
       "    <tr>\n",
       "      <th>std</th>\n",
       "      <td>1.477359e+04</td>\n",
       "      <td>2927.164583</td>\n",
       "      <td>4.345107</td>\n",
       "      <td>3.185566</td>\n",
       "    </tr>\n",
       "    <tr>\n",
       "      <th>min</th>\n",
       "      <td>1.359000e+06</td>\n",
       "      <td>59.000000</td>\n",
       "      <td>1178.000000</td>\n",
       "      <td>0.000000</td>\n",
       "    </tr>\n",
       "    <tr>\n",
       "      <th>25%</th>\n",
       "      <td>1.361744e+06</td>\n",
       "      <td>1251.000000</td>\n",
       "      <td>1178.000000</td>\n",
       "      <td>2.000000</td>\n",
       "    </tr>\n",
       "    <tr>\n",
       "      <th>50%</th>\n",
       "      <td>1.370690e+06</td>\n",
       "      <td>3173.000000</td>\n",
       "      <td>1179.000000</td>\n",
       "      <td>4.000000</td>\n",
       "    </tr>\n",
       "    <tr>\n",
       "      <th>75%</th>\n",
       "      <td>1.373433e+06</td>\n",
       "      <td>5358.000000</td>\n",
       "      <td>1179.000000</td>\n",
       "      <td>7.000000</td>\n",
       "    </tr>\n",
       "    <tr>\n",
       "      <th>max</th>\n",
       "      <td>1.420345e+06</td>\n",
       "      <td>24797.000000</td>\n",
       "      <td>1199.000000</td>\n",
       "      <td>14.000000</td>\n",
       "    </tr>\n",
       "  </tbody>\n",
       "</table>\n",
       "</div>"
      ],
      "text/plain": [
       "          id_client       sum_pay      id_point    months_reg\n",
       "count  1.097600e+04  10849.000000  10895.000000  10976.000000\n",
       "mean   1.373018e+06   3568.751037   1180.040385      4.717566\n",
       "std    1.477359e+04   2927.164583      4.345107      3.185566\n",
       "min    1.359000e+06     59.000000   1178.000000      0.000000\n",
       "25%    1.361744e+06   1251.000000   1178.000000      2.000000\n",
       "50%    1.370690e+06   3173.000000   1179.000000      4.000000\n",
       "75%    1.373433e+06   5358.000000   1179.000000      7.000000\n",
       "max    1.420345e+06  24797.000000   1199.000000     14.000000"
      ]
     },
     "execution_count": 6,
     "metadata": {},
     "output_type": "execute_result"
    }
   ],
   "source": [
    "sc.describe()\n",
    "# вывел статистику до удаления нулов"
   ]
  },
  {
   "cell_type": "code",
   "execution_count": 7,
   "id": "7845d90c",
   "metadata": {},
   "outputs": [],
   "source": [
    "# т.к. нулов не так много, то удаляем их\n",
    "sc = sc.dropna()"
   ]
  },
  {
   "cell_type": "code",
   "execution_count": 8,
   "id": "491787b5",
   "metadata": {},
   "outputs": [
    {
     "data": {
      "text/html": [
       "<div>\n",
       "<style scoped>\n",
       "    .dataframe tbody tr th:only-of-type {\n",
       "        vertical-align: middle;\n",
       "    }\n",
       "\n",
       "    .dataframe tbody tr th {\n",
       "        vertical-align: top;\n",
       "    }\n",
       "\n",
       "    .dataframe thead th {\n",
       "        text-align: right;\n",
       "    }\n",
       "</style>\n",
       "<table border=\"1\" class=\"dataframe\">\n",
       "  <thead>\n",
       "    <tr style=\"text-align: right;\">\n",
       "      <th></th>\n",
       "      <th>id_client</th>\n",
       "      <th>sum_pay</th>\n",
       "      <th>id_point</th>\n",
       "      <th>months_reg</th>\n",
       "    </tr>\n",
       "  </thead>\n",
       "  <tbody>\n",
       "    <tr>\n",
       "      <th>count</th>\n",
       "      <td>1.084000e+04</td>\n",
       "      <td>10840.000000</td>\n",
       "      <td>10840.000000</td>\n",
       "      <td>10840.000000</td>\n",
       "    </tr>\n",
       "    <tr>\n",
       "      <th>mean</th>\n",
       "      <td>1.372953e+06</td>\n",
       "      <td>3568.758026</td>\n",
       "      <td>1180.039760</td>\n",
       "      <td>4.693911</td>\n",
       "    </tr>\n",
       "    <tr>\n",
       "      <th>std</th>\n",
       "      <td>1.482036e+04</td>\n",
       "      <td>2927.273978</td>\n",
       "      <td>4.353995</td>\n",
       "      <td>3.174513</td>\n",
       "    </tr>\n",
       "    <tr>\n",
       "      <th>min</th>\n",
       "      <td>1.359000e+06</td>\n",
       "      <td>59.000000</td>\n",
       "      <td>1178.000000</td>\n",
       "      <td>0.000000</td>\n",
       "    </tr>\n",
       "    <tr>\n",
       "      <th>25%</th>\n",
       "      <td>1.361710e+06</td>\n",
       "      <td>1250.750000</td>\n",
       "      <td>1178.000000</td>\n",
       "      <td>2.000000</td>\n",
       "    </tr>\n",
       "    <tr>\n",
       "      <th>50%</th>\n",
       "      <td>1.370636e+06</td>\n",
       "      <td>3173.500000</td>\n",
       "      <td>1179.000000</td>\n",
       "      <td>4.000000</td>\n",
       "    </tr>\n",
       "    <tr>\n",
       "      <th>75%</th>\n",
       "      <td>1.373417e+06</td>\n",
       "      <td>5356.500000</td>\n",
       "      <td>1179.000000</td>\n",
       "      <td>6.000000</td>\n",
       "    </tr>\n",
       "    <tr>\n",
       "      <th>max</th>\n",
       "      <td>1.420345e+06</td>\n",
       "      <td>24797.000000</td>\n",
       "      <td>1199.000000</td>\n",
       "      <td>14.000000</td>\n",
       "    </tr>\n",
       "  </tbody>\n",
       "</table>\n",
       "</div>"
      ],
      "text/plain": [
       "          id_client       sum_pay      id_point    months_reg\n",
       "count  1.084000e+04  10840.000000  10840.000000  10840.000000\n",
       "mean   1.372953e+06   3568.758026   1180.039760      4.693911\n",
       "std    1.482036e+04   2927.273978      4.353995      3.174513\n",
       "min    1.359000e+06     59.000000   1178.000000      0.000000\n",
       "25%    1.361710e+06   1250.750000   1178.000000      2.000000\n",
       "50%    1.370636e+06   3173.500000   1179.000000      4.000000\n",
       "75%    1.373417e+06   5356.500000   1179.000000      6.000000\n",
       "max    1.420345e+06  24797.000000   1199.000000     14.000000"
      ]
     },
     "execution_count": 8,
     "metadata": {},
     "output_type": "execute_result"
    }
   ],
   "source": [
    "sc.describe()\n",
    "# и после удаления нулов, сравнить не сильно ли изменились данные. Мало ли удалил что то значительное"
   ]
  },
  {
   "cell_type": "code",
   "execution_count": 10,
   "id": "4f1e380f",
   "metadata": {},
   "outputs": [
    {
     "data": {
      "text/plain": [
       "array([  59. ,  410. ,  872.8, 1590. , 2329.6, 3173.5, 3934. , 4810. ,\n",
       "       5967. , 7088.2])"
      ]
     },
     "execution_count": 10,
     "metadata": {},
     "output_type": "execute_result"
    }
   ],
   "source": [
    "np.percentile(sc['sum_pay'], np.arange (0, 100, 10))"
   ]
  },
  {
   "cell_type": "code",
   "execution_count": 18,
   "id": "ed8633f0",
   "metadata": {},
   "outputs": [
    {
     "data": {
      "text/plain": [
       "0        5\n",
       "1        2\n",
       "2        6\n",
       "3        9\n",
       "4        1\n",
       "        ..\n",
       "10971    1\n",
       "10972    7\n",
       "10973    1\n",
       "10974    2\n",
       "10975    7\n",
       "Name: Decile, Length: 10840, dtype: int64"
      ]
     },
     "execution_count": 18,
     "metadata": {},
     "output_type": "execute_result"
    }
   ],
   "source": [
    "sc['Decile'] = pd.qcut(sc['sum_pay'], 10, labels= False )\n",
    "sc['Decile'] #примерно так считают квантили и децентили\n"
   ]
  },
  {
   "cell_type": "code",
   "execution_count": 148,
   "id": "4b287ef9",
   "metadata": {},
   "outputs": [
    {
     "data": {
      "image/png": "[encoded data removed]",
      "text/plain": [
       "<Figure size 720x504 with 1 Axes>"
      ]
     },
     "metadata": {
      "needs_background": "light"
     },
     "output_type": "display_data"
    }
   ],
   "source": [
    "plt.figure(figsize=(10,7))\n",
    "sns.histplot(sc['sum_pay'])\n",
    "plt.title('Распределение оплат')\n",
    "plt.grid()\n",
    "plt.show()\n",
    "# построим гистограмму распределение оплат"
   ]
  },
  {
   "cell_type": "code",
   "execution_count": 149,
   "id": "8a3ef1d9",
   "metadata": {},
   "outputs": [
    {
     "data": {
      "text/plain": [
       "id_client     79\n",
       "id_group      79\n",
       "sum_pay       79\n",
       "id_point      79\n",
       "months_reg    79\n",
       "dtype: int64"
      ]
     },
     "execution_count": 149,
     "metadata": {},
     "output_type": "execute_result"
    }
   ],
   "source": [
    "# видим что есть очень большие оплаты. Узнаем сколько их\n",
    "sc[sc['sum_pay'] > 20000].count()\n",
    "# 79 ....похоже на правду, не будет считать это какие то ошибками или вбросами"
   ]
  },
  {
   "cell_type": "code",
   "execution_count": 113,
   "id": "474a9617",
   "metadata": {},
   "outputs": [
    {
     "data": {
      "image/png": "[encoded data removed]",
      "text/plain": [
       "<Figure size 720x504 with 1 Axes>"
      ]
     },
     "metadata": {
      "needs_background": "light"
     },
     "output_type": "display_data"
    }
   ],
   "source": [
    "plt.figure(figsize=(10,7))\n",
    "sns.histplot(sc['months_reg'])\n",
    "plt.title('Распределение длительности регистрации клиентов')\n",
    "plt.grid()\n",
    "plt.show()\n",
    "# построим гистограмму распределение длительности регистрации клиентов"
   ]
  },
  {
   "cell_type": "code",
   "execution_count": 151,
   "id": "003b30c8",
   "metadata": {},
   "outputs": [
    {
     "data": {
      "text/plain": [
       "array([ 8, 11,  2,  3, 14,  5,  1,  0,  9, 12,  4,  6, 10,  7, 13],\n",
       "      dtype=int64)"
      ]
     },
     "execution_count": 151,
     "metadata": {},
     "output_type": "execute_result"
    }
   ],
   "source": [
    "sc['months_reg'].unique()\n",
    "# количество уникальных месяцев"
   ]
  },
  {
   "cell_type": "code",
   "execution_count": 114,
   "id": "444c3713",
   "metadata": {},
   "outputs": [
    {
     "data": {
      "text/html": [
       "<div>\n",
       "<style scoped>\n",
       "    .dataframe tbody tr th:only-of-type {\n",
       "        vertical-align: middle;\n",
       "    }\n",
       "\n",
       "    .dataframe tbody tr th {\n",
       "        vertical-align: top;\n",
       "    }\n",
       "\n",
       "    .dataframe thead th {\n",
       "        text-align: right;\n",
       "    }\n",
       "</style>\n",
       "<table border=\"1\" class=\"dataframe\">\n",
       "  <thead>\n",
       "    <tr style=\"text-align: right;\">\n",
       "      <th></th>\n",
       "      <th>id_client</th>\n",
       "      <th>id_group</th>\n",
       "      <th>sum_pay</th>\n",
       "      <th>id_point</th>\n",
       "      <th>months_reg</th>\n",
       "    </tr>\n",
       "  </thead>\n",
       "  <tbody>\n",
       "    <tr>\n",
       "      <th>0</th>\n",
       "      <td>1420218</td>\n",
       "      <td>1</td>\n",
       "      <td>3288.0</td>\n",
       "      <td>1199.0</td>\n",
       "      <td>8</td>\n",
       "    </tr>\n",
       "    <tr>\n",
       "      <th>1</th>\n",
       "      <td>1390221</td>\n",
       "      <td>0</td>\n",
       "      <td>1267.0</td>\n",
       "      <td>1182.0</td>\n",
       "      <td>11</td>\n",
       "    </tr>\n",
       "    <tr>\n",
       "      <th>2</th>\n",
       "      <td>1363404</td>\n",
       "      <td>0</td>\n",
       "      <td>4259.0</td>\n",
       "      <td>1178.0</td>\n",
       "      <td>2</td>\n",
       "    </tr>\n",
       "    <tr>\n",
       "      <th>3</th>\n",
       "      <td>1370042</td>\n",
       "      <td>1</td>\n",
       "      <td>7211.0</td>\n",
       "      <td>1179.0</td>\n",
       "      <td>3</td>\n",
       "    </tr>\n",
       "    <tr>\n",
       "      <th>4</th>\n",
       "      <td>1360376</td>\n",
       "      <td>0</td>\n",
       "      <td>760.0</td>\n",
       "      <td>1178.0</td>\n",
       "      <td>14</td>\n",
       "    </tr>\n",
       "  </tbody>\n",
       "</table>\n",
       "</div>"
      ],
      "text/plain": [
       "   id_client  id_group  sum_pay  id_point  months_reg\n",
       "0    1420218         1   3288.0    1199.0           8\n",
       "1    1390221         0   1267.0    1182.0          11\n",
       "2    1363404         0   4259.0    1178.0           2\n",
       "3    1370042         1   7211.0    1179.0           3\n",
       "4    1360376         0    760.0    1178.0          14"
      ]
     },
     "execution_count": 114,
     "metadata": {},
     "output_type": "execute_result"
    }
   ],
   "source": [
    "sc['id_group'] = sc.id_group.map({'control':0,'test':1})\n",
    "sc.head()\n",
    "# заменит object на значения"
   ]
  },
  {
   "cell_type": "code",
   "execution_count": 115,
   "id": "ead63ba0",
   "metadata": {},
   "outputs": [],
   "source": [
    "# создадим нужные функции"
   ]
  },
  {
   "cell_type": "code",
   "execution_count": 116,
   "id": "a2e39332",
   "metadata": {},
   "outputs": [],
   "source": [
    "def mann_whitney_func(x,y,alpha=0.05):\n",
    "    s, p_value = stats.mannwhitneyu(x,y)\n",
    "    \n",
    "    if p_value < alpha:\n",
    "        print('Распределения не равны')\n",
    "    else: print('Распределения равны')\n",
    "    \n",
    "    return s, p_value\n",
    "# маун увинтни тест говорит о разности распределений"
   ]
  },
  {
   "cell_type": "code",
   "execution_count": 117,
   "id": "b99a85db",
   "metadata": {},
   "outputs": [],
   "source": [
    "def test_calc(x,y,alpha=0.05):\n",
    "    s, p_value = stats.ttest_ind(x,y)\n",
    "    \n",
    "    if p_value < alpha:\n",
    "        print('Распределения не равны')\n",
    "    else: print('Распределения равны')\n",
    "    \n",
    "    return s, p_value\n",
    "# t тест говорит о разнице средних"
   ]
  },
  {
   "cell_type": "code",
   "execution_count": 118,
   "id": "5342ab22",
   "metadata": {},
   "outputs": [],
   "source": [
    "# создадим два df  с кажными результатами\n",
    "sc_0 = sc.loc[sc['id_group'] == 0]\n",
    "sc_1 = sc.loc[sc['id_group'] == 1]"
   ]
  },
  {
   "cell_type": "code",
   "execution_count": 119,
   "id": "6e9689d5",
   "metadata": {},
   "outputs": [
    {
     "name": "stderr",
     "output_type": "stream",
     "text": [
      "C:\\Users\\pokus\\AppData\\Local\\Temp\\ipykernel_20428\\592676822.py:1: SettingWithCopyWarning: \n",
      "A value is trying to be set on a copy of a slice from a DataFrame.\n",
      "Try using .loc[row_indexer,col_indexer] = value instead\n",
      "\n",
      "See the caveats in the documentation: https://pandas.pydata.org/pandas-docs/stable/user_guide/indexing.html#returning-a-view-versus-a-copy\n",
      "  sc_0['id_group'] = sc_0['id_group'].apply('float64')\n",
      "C:\\Users\\pokus\\AppData\\Local\\Temp\\ipykernel_20428\\592676822.py:2: SettingWithCopyWarning: \n",
      "A value is trying to be set on a copy of a slice from a DataFrame.\n",
      "Try using .loc[row_indexer,col_indexer] = value instead\n",
      "\n",
      "See the caveats in the documentation: https://pandas.pydata.org/pandas-docs/stable/user_guide/indexing.html#returning-a-view-versus-a-copy\n",
      "  sc_1['id_group'] = sc_1['id_group'].apply('float64')\n"
     ]
    }
   ],
   "source": [
    "sc_0['id_group'] = sc_0['id_group'].apply('float64')\n",
    "sc_1['id_group'] = sc_1['id_group'].apply('float64')"
   ]
  },
  {
   "cell_type": "code",
   "execution_count": 120,
   "id": "7783199c",
   "metadata": {},
   "outputs": [
    {
     "data": {
      "text/html": [
       "<div>\n",
       "<style scoped>\n",
       "    .dataframe tbody tr th:only-of-type {\n",
       "        vertical-align: middle;\n",
       "    }\n",
       "\n",
       "    .dataframe tbody tr th {\n",
       "        vertical-align: top;\n",
       "    }\n",
       "\n",
       "    .dataframe thead th {\n",
       "        text-align: right;\n",
       "    }\n",
       "</style>\n",
       "<table border=\"1\" class=\"dataframe\">\n",
       "  <thead>\n",
       "    <tr style=\"text-align: right;\">\n",
       "      <th></th>\n",
       "      <th>id_client</th>\n",
       "      <th>id_group</th>\n",
       "      <th>sum_pay</th>\n",
       "      <th>id_point</th>\n",
       "      <th>months_reg</th>\n",
       "    </tr>\n",
       "  </thead>\n",
       "  <tbody>\n",
       "    <tr>\n",
       "      <th>1</th>\n",
       "      <td>1390221</td>\n",
       "      <td>0.0</td>\n",
       "      <td>1267.0</td>\n",
       "      <td>1182.0</td>\n",
       "      <td>11</td>\n",
       "    </tr>\n",
       "    <tr>\n",
       "      <th>2</th>\n",
       "      <td>1363404</td>\n",
       "      <td>0.0</td>\n",
       "      <td>4259.0</td>\n",
       "      <td>1178.0</td>\n",
       "      <td>2</td>\n",
       "    </tr>\n",
       "    <tr>\n",
       "      <th>4</th>\n",
       "      <td>1360376</td>\n",
       "      <td>0.0</td>\n",
       "      <td>760.0</td>\n",
       "      <td>1178.0</td>\n",
       "      <td>14</td>\n",
       "    </tr>\n",
       "    <tr>\n",
       "      <th>7</th>\n",
       "      <td>1373231</td>\n",
       "      <td>0.0</td>\n",
       "      <td>4008.0</td>\n",
       "      <td>1179.0</td>\n",
       "      <td>0</td>\n",
       "    </tr>\n",
       "    <tr>\n",
       "      <th>9</th>\n",
       "      <td>1373288</td>\n",
       "      <td>0.0</td>\n",
       "      <td>4109.0</td>\n",
       "      <td>1179.0</td>\n",
       "      <td>8</td>\n",
       "    </tr>\n",
       "  </tbody>\n",
       "</table>\n",
       "</div>"
      ],
      "text/plain": [
       "   id_client  id_group  sum_pay  id_point  months_reg\n",
       "1    1390221       0.0   1267.0    1182.0          11\n",
       "2    1363404       0.0   4259.0    1178.0           2\n",
       "4    1360376       0.0    760.0    1178.0          14\n",
       "7    1373231       0.0   4008.0    1179.0           0\n",
       "9    1373288       0.0   4109.0    1179.0           8"
      ]
     },
     "execution_count": 120,
     "metadata": {},
     "output_type": "execute_result"
    }
   ],
   "source": [
    "sc_0.head()"
   ]
  },
  {
   "cell_type": "code",
   "execution_count": 121,
   "id": "0f71295d",
   "metadata": {},
   "outputs": [
    {
     "data": {
      "text/html": [
       "<div>\n",
       "<style scoped>\n",
       "    .dataframe tbody tr th:only-of-type {\n",
       "        vertical-align: middle;\n",
       "    }\n",
       "\n",
       "    .dataframe tbody tr th {\n",
       "        vertical-align: top;\n",
       "    }\n",
       "\n",
       "    .dataframe thead th {\n",
       "        text-align: right;\n",
       "    }\n",
       "</style>\n",
       "<table border=\"1\" class=\"dataframe\">\n",
       "  <thead>\n",
       "    <tr style=\"text-align: right;\">\n",
       "      <th></th>\n",
       "      <th>id_client</th>\n",
       "      <th>id_group</th>\n",
       "      <th>sum_pay</th>\n",
       "      <th>id_point</th>\n",
       "      <th>months_reg</th>\n",
       "    </tr>\n",
       "  </thead>\n",
       "  <tbody>\n",
       "    <tr>\n",
       "      <th>0</th>\n",
       "      <td>1420218</td>\n",
       "      <td>1.0</td>\n",
       "      <td>3288.0</td>\n",
       "      <td>1199.0</td>\n",
       "      <td>8</td>\n",
       "    </tr>\n",
       "    <tr>\n",
       "      <th>3</th>\n",
       "      <td>1370042</td>\n",
       "      <td>1.0</td>\n",
       "      <td>7211.0</td>\n",
       "      <td>1179.0</td>\n",
       "      <td>3</td>\n",
       "    </tr>\n",
       "    <tr>\n",
       "      <th>5</th>\n",
       "      <td>1371160</td>\n",
       "      <td>1.0</td>\n",
       "      <td>218.0</td>\n",
       "      <td>1179.0</td>\n",
       "      <td>5</td>\n",
       "    </tr>\n",
       "    <tr>\n",
       "      <th>6</th>\n",
       "      <td>1372110</td>\n",
       "      <td>1.0</td>\n",
       "      <td>1295.0</td>\n",
       "      <td>1179.0</td>\n",
       "      <td>1</td>\n",
       "    </tr>\n",
       "    <tr>\n",
       "      <th>8</th>\n",
       "      <td>1372555</td>\n",
       "      <td>1.0</td>\n",
       "      <td>4708.0</td>\n",
       "      <td>1179.0</td>\n",
       "      <td>9</td>\n",
       "    </tr>\n",
       "  </tbody>\n",
       "</table>\n",
       "</div>"
      ],
      "text/plain": [
       "   id_client  id_group  sum_pay  id_point  months_reg\n",
       "0    1420218       1.0   3288.0    1199.0           8\n",
       "3    1370042       1.0   7211.0    1179.0           3\n",
       "5    1371160       1.0    218.0    1179.0           5\n",
       "6    1372110       1.0   1295.0    1179.0           1\n",
       "8    1372555       1.0   4708.0    1179.0           9"
      ]
     },
     "execution_count": 121,
     "metadata": {},
     "output_type": "execute_result"
    }
   ],
   "source": [
    "sc_1.head()"
   ]
  },
  {
   "cell_type": "code",
   "execution_count": 122,
   "id": "818886e0",
   "metadata": {},
   "outputs": [
    {
     "data": {
      "image/png": "[encoded data removed]",
      "text/plain": [
       "<Figure size 720x504 with 1 Axes>"
      ]
     },
     "metadata": {
      "needs_background": "light"
     },
     "output_type": "display_data"
    }
   ],
   "source": [
    "plt.figure(figsize=(10,7))\n",
    "sns.histplot(sc_0['sum_pay'],color='red')\n",
    "sns.histplot(sc_1['sum_pay'])\n",
    "plt.title('Распределение данных')\n",
    "plt.grid()\n",
    "plt.show()\n",
    "# строим гистограмму и видим что есть небольшие различия в распределении данных"
   ]
  },
  {
   "cell_type": "code",
   "execution_count": 123,
   "id": "17c59fbf",
   "metadata": {},
   "outputs": [
    {
     "name": "stdout",
     "output_type": "stream",
     "text": [
      "Распределения не равны\n"
     ]
    },
    {
     "data": {
      "text/plain": [
       "(14316338.5, 0.03621040784028777)"
      ]
     },
     "execution_count": 123,
     "metadata": {},
     "output_type": "execute_result"
    }
   ],
   "source": [
    "# производим тестирование\n",
    "mann_whitney_func(sc_0['sum_pay'], sc_1['sum_pay'])"
   ]
  },
  {
   "cell_type": "code",
   "execution_count": 124,
   "id": "00b1192d",
   "metadata": {},
   "outputs": [
    {
     "name": "stdout",
     "output_type": "stream",
     "text": [
      "Распределения не равны\n"
     ]
    },
    {
     "data": {
      "text/plain": [
       "(-3.920008957178958, 8.90905813507598e-05)"
      ]
     },
     "execution_count": 124,
     "metadata": {},
     "output_type": "execute_result"
    }
   ],
   "source": [
    "test_calc(sc_0['sum_pay'], sc_1['sum_pay'])\n",
    "# s  - значение статистического криметрия, р - p_valuo\n",
    "# -3.9 это больше 1.96 значит Н1 побеждает Н0. Предварительно!"
   ]
  },
  {
   "cell_type": "code",
   "execution_count": 125,
   "id": "31954d17",
   "metadata": {},
   "outputs": [],
   "source": [
    "# посчитаем основные статистические критерии. Не совсем понимаю зачем...но пусть будет\n",
    "def statistical_analysis(data, q=[0.1,0.25,0.3,0.4,0.5,0.6,0.75,0.9]):\n",
    "\n",
    "# мы передает DF\n",
    "# функция для статистического анализа   \n",
    "#  проверка на соответствие списку/кортежу\n",
    "    \n",
    "    if type(data) != tuple and type(data) != list:\n",
    "        return print('Нужен список или кортеж!')\n",
    "    \n",
    "#  проверка длины ряда\n",
    "    \n",
    "    else:\n",
    "        if len(data) <= 4:\n",
    "            return print('Требуется более длинный ряд')\n",
    "        \n",
    "#  преобразование списка/кортежа в серию\n",
    " \n",
    "        else:\n",
    "            data = pd.Series(data)\n",
    "            \n",
    "#  создание датафрейма с квантильным анализом\n",
    "\n",
    "            qs = np.quantile(data, q)\n",
    "            qdf = pd.DataFrame(q, columns = ['quant_level'])\n",
    "            qdf['quantile'] = qs\n",
    "            \n",
    "#  вывод требуемых статистических характеристик\n",
    "\n",
    "            print(\"Среднее = \",data.mean())\n",
    "            print(\"Дисперсия = \",data.var())\n",
    "            print(\"Стандартное отклонение = \",data.std())\n",
    "            \n",
    "#  гистограмма с распределением данных\n",
    "\n",
    "            #dr_corr = df[df[column]>80000.0]\n",
    "            #sns.histplot(data=df_corr[column]\n",
    "            sns.histplot(data)\n",
    "    \n",
    "#  закрытие функции, вывод датафрейма с квантильным анализом\n",
    "    \n",
    "            return qdf"
   ]
  },
  {
   "cell_type": "code",
   "execution_count": 126,
   "id": "96f78551",
   "metadata": {},
   "outputs": [
    {
     "name": "stdout",
     "output_type": "stream",
     "text": [
      "Среднее =  3568.7580258302582\n",
      "Дисперсия =  8568932.941996625\n",
      "Стандартное отклонение =  2927.27397795229\n"
     ]
    },
    {
     "data": {
      "text/html": [
       "<div>\n",
       "<style scoped>\n",
       "    .dataframe tbody tr th:only-of-type {\n",
       "        vertical-align: middle;\n",
       "    }\n",
       "\n",
       "    .dataframe tbody tr th {\n",
       "        vertical-align: top;\n",
       "    }\n",
       "\n",
       "    .dataframe thead th {\n",
       "        text-align: right;\n",
       "    }\n",
       "</style>\n",
       "<table border=\"1\" class=\"dataframe\">\n",
       "  <thead>\n",
       "    <tr style=\"text-align: right;\">\n",
       "      <th></th>\n",
       "      <th>quant_level</th>\n",
       "      <th>quantile</th>\n",
       "    </tr>\n",
       "  </thead>\n",
       "  <tbody>\n",
       "    <tr>\n",
       "      <th>0</th>\n",
       "      <td>0.10</td>\n",
       "      <td>410.00</td>\n",
       "    </tr>\n",
       "    <tr>\n",
       "      <th>1</th>\n",
       "      <td>0.25</td>\n",
       "      <td>1250.75</td>\n",
       "    </tr>\n",
       "    <tr>\n",
       "      <th>2</th>\n",
       "      <td>0.30</td>\n",
       "      <td>1590.00</td>\n",
       "    </tr>\n",
       "    <tr>\n",
       "      <th>3</th>\n",
       "      <td>0.40</td>\n",
       "      <td>2329.60</td>\n",
       "    </tr>\n",
       "    <tr>\n",
       "      <th>4</th>\n",
       "      <td>0.50</td>\n",
       "      <td>3173.50</td>\n",
       "    </tr>\n",
       "    <tr>\n",
       "      <th>5</th>\n",
       "      <td>0.60</td>\n",
       "      <td>3934.00</td>\n",
       "    </tr>\n",
       "    <tr>\n",
       "      <th>6</th>\n",
       "      <td>0.75</td>\n",
       "      <td>5356.50</td>\n",
       "    </tr>\n",
       "    <tr>\n",
       "      <th>7</th>\n",
       "      <td>0.90</td>\n",
       "      <td>7088.20</td>\n",
       "    </tr>\n",
       "  </tbody>\n",
       "</table>\n",
       "</div>"
      ],
      "text/plain": [
       "   quant_level  quantile\n",
       "0         0.10    410.00\n",
       "1         0.25   1250.75\n",
       "2         0.30   1590.00\n",
       "3         0.40   2329.60\n",
       "4         0.50   3173.50\n",
       "5         0.60   3934.00\n",
       "6         0.75   5356.50\n",
       "7         0.90   7088.20"
      ]
     },
     "execution_count": 126,
     "metadata": {},
     "output_type": "execute_result"
    },
    {
     "data": {
      "image/png": "[encoded data removed]",
      "text/plain": [
       "<Figure size 432x288 with 1 Axes>"
      ]
     },
     "metadata": {
      "needs_background": "light"
     },
     "output_type": "display_data"
    }
   ],
   "source": [
    "statistical_analysis(list(sc['sum_pay']))\n"
   ]
  },
  {
   "cell_type": "code",
   "execution_count": 127,
   "id": "3d6f1076",
   "metadata": {},
   "outputs": [
    {
     "ename": "SyntaxError",
     "evalue": "unexpected EOF while parsing (515757906.py, line 29)",
     "output_type": "error",
     "traceback": [
      "\u001b[1;36m  Input \u001b[1;32mIn [127]\u001b[1;36m\u001b[0m\n\u001b[1;33m    print('Корреляция Спирмана равна нулю'\u001b[0m\n\u001b[1;37m                                          ^\u001b[0m\n\u001b[1;31mSyntaxError\u001b[0m\u001b[1;31m:\u001b[0m unexpected EOF while parsing\n"
     ]
    }
   ],
   "source": [
    "# так же корреляция/Ковариация Пирсона и Спирмана \n",
    "def proxi_ranges(x,y,alpha=0.05):\n",
    "    cov = np.cov(x,y)\n",
    "    print(f'Ковариация: {round(cov[0][1],2)}')\n",
    "    print(f'Дисперсия для метрики 1: {round(cov[0][0],2)}')\n",
    "    print(f'Дисперсия для метрики 2: {round(cov[1][1],2)}')\n",
    "    \n",
    "    pearson_v, pearson_p = stats.pearsonr(x,y)\n",
    "    spearman_v, spearman_p = stats.spearmanr(x,y)\n",
    "    if pearson_p < alpha:\n",
    "        if abs(pearson_v) < 0.3:\n",
    "            person_corr = 'слабая'\n",
    "        elif 0.3 <= abs(pearson_v) < 0.7:\n",
    "            person_corr = 'средняя'\n",
    "        else:\n",
    "            person_corr = 'сильная'\n",
    "        print(f'Корреляция Пирсона {person_corr}')    \n",
    "    else:\n",
    "        print('Корреляция Пирсона равна нулю')\n",
    "    if spearman_p < alpha:\n",
    "        if abs(spearman_v) < 0.3:\n",
    "            spearman_corr = 'слабая'\n",
    "        elif 0.3 <= abs(spearman_v) < 0.7:\n",
    "            spearman_corr = 'средняя'\n",
    "        else:\n",
    "            spearman_corr = 'сильная'\n",
    "        print(f'Корреляция Спирмана {spearman_corr}')    \n",
    "    else:\n",
    "        print('Корреляция Спирмана равна нулю'"
   ]
  },
  {
   "cell_type": "code",
   "execution_count": 128,
   "id": "af7a8378",
   "metadata": {},
   "outputs": [
    {
     "name": "stdout",
     "output_type": "stream",
     "text": [
      "Ковариация: 1336.23\n",
      "Дисперсия для метрики 1: 8568932.94\n",
      "Дисперсия для метрики 2: 18.96\n",
      "Корреляция Пирсона слабая\n",
      "Корреляция Спирмана слабая\n"
     ]
    }
   ],
   "source": [
    "proxi_ranges(sc['sum_pay'], sc['id_point'])"
   ]
  },
  {
   "cell_type": "code",
   "execution_count": 129,
   "id": "230c61fa",
   "metadata": {},
   "outputs": [],
   "source": [
    "def p_v_point(x, y, alpha = 0.05):\n",
    "    for i in x.unique():\n",
    "        s, p = ttest_ind(sc[(x==i) &  (sc['id_group']==1)]['sum_pay'], sc[(x==i) & (sc['id_group']==0)]['sum_pay'])\n",
    "        if p < alpha:\n",
    "            print('Распределения не равны в point = ', i, 'и p =', p)"
   ]
  },
  {
   "cell_type": "code",
   "execution_count": 130,
   "id": "ac1717dc",
   "metadata": {},
   "outputs": [
    {
     "name": "stdout",
     "output_type": "stream",
     "text": [
      "Распределения не равны в point =  1182.0 и p = 4.012995243252407e-15\n"
     ]
    }
   ],
   "source": [
    "p_v_point(sc['id_point'], sc['months_reg'])"
   ]
  },
  {
   "cell_type": "code",
   "execution_count": 131,
   "id": "a8a52ed9",
   "metadata": {},
   "outputs": [],
   "source": [
    "# исключим из выборки point =  1182.0 и проверим какие будут результаты, распределения должны быть равны\n",
    "sc_no_1182 = sc[sc['id_point'] != 1182.0] "
   ]
  },
  {
   "cell_type": "code",
   "execution_count": 132,
   "id": "bea88e24",
   "metadata": {},
   "outputs": [
    {
     "data": {
      "text/plain": [
       "array([1199., 1178., 1179., 1186., 1188.])"
      ]
     },
     "execution_count": 132,
     "metadata": {},
     "output_type": "execute_result"
    }
   ],
   "source": [
    "sc_no_1182['id_point'].unique()"
   ]
  },
  {
   "cell_type": "code",
   "execution_count": 133,
   "id": "9a56243d",
   "metadata": {},
   "outputs": [],
   "source": [
    "p_v_point(sc_no_1182['id_point'], sc_no_1182['months_reg'])\n",
    "# при исключении 1182 распределени я оказались равны"
   ]
  },
  {
   "cell_type": "code",
   "execution_count": 138,
   "id": "61468c7e",
   "metadata": {},
   "outputs": [
    {
     "data": {
      "text/html": [
       "<div>\n",
       "<style scoped>\n",
       "    .dataframe tbody tr th:only-of-type {\n",
       "        vertical-align: middle;\n",
       "    }\n",
       "\n",
       "    .dataframe tbody tr th {\n",
       "        vertical-align: top;\n",
       "    }\n",
       "\n",
       "    .dataframe thead th {\n",
       "        text-align: right;\n",
       "    }\n",
       "</style>\n",
       "<table border=\"1\" class=\"dataframe\">\n",
       "  <thead>\n",
       "    <tr style=\"text-align: right;\">\n",
       "      <th></th>\n",
       "      <th>id_client</th>\n",
       "      <th>id_group</th>\n",
       "      <th>sum_pay</th>\n",
       "      <th>id_point</th>\n",
       "      <th>months_reg</th>\n",
       "    </tr>\n",
       "  </thead>\n",
       "  <tbody>\n",
       "    <tr>\n",
       "      <th>0</th>\n",
       "      <td>1420218</td>\n",
       "      <td>1</td>\n",
       "      <td>3288.0</td>\n",
       "      <td>1199.0</td>\n",
       "      <td>8</td>\n",
       "    </tr>\n",
       "    <tr>\n",
       "      <th>2</th>\n",
       "      <td>1363404</td>\n",
       "      <td>0</td>\n",
       "      <td>4259.0</td>\n",
       "      <td>1178.0</td>\n",
       "      <td>2</td>\n",
       "    </tr>\n",
       "    <tr>\n",
       "      <th>3</th>\n",
       "      <td>1370042</td>\n",
       "      <td>1</td>\n",
       "      <td>7211.0</td>\n",
       "      <td>1179.0</td>\n",
       "      <td>3</td>\n",
       "    </tr>\n",
       "    <tr>\n",
       "      <th>4</th>\n",
       "      <td>1360376</td>\n",
       "      <td>0</td>\n",
       "      <td>760.0</td>\n",
       "      <td>1178.0</td>\n",
       "      <td>14</td>\n",
       "    </tr>\n",
       "    <tr>\n",
       "      <th>5</th>\n",
       "      <td>1371160</td>\n",
       "      <td>1</td>\n",
       "      <td>218.0</td>\n",
       "      <td>1179.0</td>\n",
       "      <td>5</td>\n",
       "    </tr>\n",
       "  </tbody>\n",
       "</table>\n",
       "</div>"
      ],
      "text/plain": [
       "   id_client  id_group  sum_pay  id_point  months_reg\n",
       "0    1420218         1   3288.0    1199.0           8\n",
       "2    1363404         0   4259.0    1178.0           2\n",
       "3    1370042         1   7211.0    1179.0           3\n",
       "4    1360376         0    760.0    1178.0          14\n",
       "5    1371160         1    218.0    1179.0           5"
      ]
     },
     "execution_count": 138,
     "metadata": {},
     "output_type": "execute_result"
    }
   ],
   "source": [
    "# оценим наши выборки без 79 особо крупных платежей в точке 1188\n",
    "sc_no_1188 = sc[sc['id_point'] != 1182.0] \n",
    "sc_no_1188.head()"
   ]
  },
  {
   "cell_type": "code",
   "execution_count": 139,
   "id": "6f6bd5cd",
   "metadata": {},
   "outputs": [],
   "source": [
    "p_v_point(sc_no_1188['id_point'], sc_no_1188['months_reg'])\n",
    "# при исключении 1188 распределени я оказались равны"
   ]
  },
  {
   "cell_type": "code",
   "execution_count": 135,
   "id": "b25c73f2",
   "metadata": {},
   "outputs": [],
   "source": [
    "# создадим функцию для расчета и по point и по месяцам\n",
    "def p_v_poimt_month(x, y, alpha = 0.05):\n",
    "    for i in x.unique():\n",
    "        for j in y.unique():\n",
    "            #print(i,j)\n",
    "            s, p = ttest_ind(sc[(x==i) & (y==j) & (sc['id_group']==1)]['sum_pay'], sc[(x==i) & (y==j) & (sc['id_group']==0)]['sum_pay'])\n",
    "            if p < alpha:\n",
    "                print('Распределения не равны в point = ', i, 'и months_reg =', j,  'и p =', p)"
   ]
  },
  {
   "cell_type": "code",
   "execution_count": 136,
   "id": "68cc877e",
   "metadata": {},
   "outputs": [
    {
     "name": "stdout",
     "output_type": "stream",
     "text": [
      "Распределения не равны в point =  1182.0 и months_reg = 8 и p = 0.01847579069699733\n",
      "Распределения не равны в point =  1182.0 и months_reg = 11 и p = 0.03881564392359124\n",
      "Распределения не равны в point =  1182.0 и months_reg = 2 и p = 1.8724407056800466e-06\n",
      "Распределения не равны в point =  1182.0 и months_reg = 3 и p = 0.004680596478231153\n",
      "Распределения не равны в point =  1182.0 и months_reg = 1 и p = 1.252060356647832e-07\n",
      "Распределения не равны в point =  1182.0 и months_reg = 0 и p = 1.7673060146538122e-05\n",
      "Распределения не равны в point =  1178.0 и months_reg = 8 и p = 1.3606457601984865e-05\n",
      "Распределения не равны в point =  1178.0 и months_reg = 11 и p = 0.00037270654080624586\n",
      "Распределения не равны в point =  1178.0 и months_reg = 2 и p = 3.077004111176186e-13\n",
      "Распределения не равны в point =  1178.0 и months_reg = 3 и p = 2.5348650691222226e-11\n",
      "Распределения не равны в point =  1178.0 и months_reg = 5 и p = 6.808742455668751e-07\n",
      "Распределения не равны в point =  1178.0 и months_reg = 6 и p = 4.1297371380554225e-06\n",
      "Распределения не равны в point =  1178.0 и months_reg = 7 и p = 0.0004852738866565957\n",
      "Распределения не равны в point =  1179.0 и months_reg = 14 и p = 0.0441094897761605\n"
     ]
    },
    {
     "name": "stderr",
     "output_type": "stream",
     "text": [
      "D:\\Steam\\anaconda3\\lib\\site-packages\\numpy\\core\\fromnumeric.py:3723: RuntimeWarning: Degrees of freedom <= 0 for slice\n",
      "  return _methods._var(a, axis=axis, dtype=dtype, out=out, ddof=ddof,\n",
      "D:\\Steam\\anaconda3\\lib\\site-packages\\numpy\\core\\_methods.py:254: RuntimeWarning: invalid value encountered in double_scalars\n",
      "  ret = ret.dtype.type(ret / rcount)\n"
     ]
    }
   ],
   "source": [
    "p_v_poimt_month(sc['id_point'], sc['months_reg'])"
   ]
  },
  {
   "cell_type": "code",
   "execution_count": 137,
   "id": "675b0d83",
   "metadata": {},
   "outputs": [
    {
     "data": {
      "image/png": "[encoded data removed]",
      "text/plain": [
       "<Figure size 720x936 with 1 Axes>"
      ]
     },
     "metadata": {
      "needs_background": "light"
     },
     "output_type": "display_data"
    }
   ],
   "source": [
    "plt.figure(figsize=(10, 13)) \n",
    "plt.title('Распределение длительности регистрации по торговым точкам') \n",
    "sns.boxplot(x='id_point',\n",
    "            y='months_reg',\n",
    "            data=sc, \n",
    "            color='y')\n",
    "plt.ylabel('Длительность регистрации') # Подпишем ось Y\n",
    "plt.xlabel('Торговые точки') # Подпишем ось Y\n",
    "plt.show()"
   ]
  },
  {
   "cell_type": "code",
   "execution_count": 87,
   "id": "684aaa8e",
   "metadata": {},
   "outputs": [
    {
     "data": {
      "text/html": [
       "<div>\n",
       "<style scoped>\n",
       "    .dataframe tbody tr th:only-of-type {\n",
       "        vertical-align: middle;\n",
       "    }\n",
       "\n",
       "    .dataframe tbody tr th {\n",
       "        vertical-align: top;\n",
       "    }\n",
       "\n",
       "    .dataframe thead th {\n",
       "        text-align: right;\n",
       "    }\n",
       "</style>\n",
       "<table border=\"1\" class=\"dataframe\">\n",
       "  <thead>\n",
       "    <tr style=\"text-align: right;\">\n",
       "      <th></th>\n",
       "      <th>id_point</th>\n",
       "      <th>months_reg</th>\n",
       "      <th>sum_pay</th>\n",
       "    </tr>\n",
       "  </thead>\n",
       "  <tbody>\n",
       "    <tr>\n",
       "      <th>0</th>\n",
       "      <td>1178.0</td>\n",
       "      <td>0</td>\n",
       "      <td>835.197778</td>\n",
       "    </tr>\n",
       "    <tr>\n",
       "      <th>1</th>\n",
       "      <td>1178.0</td>\n",
       "      <td>1</td>\n",
       "      <td>889.103960</td>\n",
       "    </tr>\n",
       "    <tr>\n",
       "      <th>2</th>\n",
       "      <td>1178.0</td>\n",
       "      <td>2</td>\n",
       "      <td>1701.248109</td>\n",
       "    </tr>\n",
       "    <tr>\n",
       "      <th>3</th>\n",
       "      <td>1178.0</td>\n",
       "      <td>3</td>\n",
       "      <td>2049.777358</td>\n",
       "    </tr>\n",
       "    <tr>\n",
       "      <th>4</th>\n",
       "      <td>1178.0</td>\n",
       "      <td>4</td>\n",
       "      <td>3785.773333</td>\n",
       "    </tr>\n",
       "    <tr>\n",
       "      <th>...</th>\n",
       "      <td>...</td>\n",
       "      <td>...</td>\n",
       "      <td>...</td>\n",
       "    </tr>\n",
       "    <tr>\n",
       "      <th>77</th>\n",
       "      <td>1199.0</td>\n",
       "      <td>10</td>\n",
       "      <td>4671.625000</td>\n",
       "    </tr>\n",
       "    <tr>\n",
       "      <th>78</th>\n",
       "      <td>1199.0</td>\n",
       "      <td>11</td>\n",
       "      <td>6527.125000</td>\n",
       "    </tr>\n",
       "    <tr>\n",
       "      <th>79</th>\n",
       "      <td>1199.0</td>\n",
       "      <td>12</td>\n",
       "      <td>4622.400000</td>\n",
       "    </tr>\n",
       "    <tr>\n",
       "      <th>80</th>\n",
       "      <td>1199.0</td>\n",
       "      <td>13</td>\n",
       "      <td>3082.833333</td>\n",
       "    </tr>\n",
       "    <tr>\n",
       "      <th>81</th>\n",
       "      <td>1199.0</td>\n",
       "      <td>14</td>\n",
       "      <td>2993.000000</td>\n",
       "    </tr>\n",
       "  </tbody>\n",
       "</table>\n",
       "<p>82 rows × 3 columns</p>\n",
       "</div>"
      ],
      "text/plain": [
       "    id_point  months_reg      sum_pay\n",
       "0     1178.0           0   835.197778\n",
       "1     1178.0           1   889.103960\n",
       "2     1178.0           2  1701.248109\n",
       "3     1178.0           3  2049.777358\n",
       "4     1178.0           4  3785.773333\n",
       "..       ...         ...          ...\n",
       "77    1199.0          10  4671.625000\n",
       "78    1199.0          11  6527.125000\n",
       "79    1199.0          12  4622.400000\n",
       "80    1199.0          13  3082.833333\n",
       "81    1199.0          14  2993.000000\n",
       "\n",
       "[82 rows x 3 columns]"
      ]
     },
     "execution_count": 87,
     "metadata": {},
     "output_type": "execute_result"
    }
   ],
   "source": [
    "sc_pivot = sc.groupby(['id_point','months_reg'])['sum_pay'].mean().reset_index()\n",
    "sc_pivot"
   ]
  },
  {
   "cell_type": "code",
   "execution_count": 88,
   "id": "bde8e77f",
   "metadata": {},
   "outputs": [],
   "source": [
    "sc_pivot = sc_pivot.pivot(index=\"id_point\", \n",
    "                    columns=\"months_reg\", \n",
    "                    values=\"sum_pay\")"
   ]
  },
  {
   "cell_type": "code",
   "execution_count": 96,
   "id": "d7f3cbac",
   "metadata": {},
   "outputs": [
    {
     "data": {
      "image/png": "[encoded data removed]",
      "text/plain": [
       "<Figure size 1440x576 with 2 Axes>"
      ]
     },
     "metadata": {
      "needs_background": "light"
     },
     "output_type": "display_data"
    }
   ],
   "source": [
    "\n",
    "plt.figure(figsize=(20,8))\n",
    "sns.heatmap(sc_pivot, \n",
    "            annot=True, \n",
    "            cmap=\"YlGnBu\",\n",
    "            fmt='g',\n",
    "            annot_kws={'size':12})\n",
    "plt.title(\"Тепловая карта сумм покупок \")\n",
    "plt.ylabel(\"Торговые точки\")\n",
    "plt.xlabel(\"Длительность регистрации\")\n",
    "plt.show()"
   ]
  },
  {
   "cell_type": "code",
   "execution_count": null,
   "id": "68dbe3b3",
   "metadata": {},
   "outputs": [],
   "source": [
    "#мы видим что наиболее результативна у нас точка 1182 и больше всего денег приносят клиенты с регистрацией от 7 до 12 месяцев"
   ]
  },
  {
   "cell_type": "code",
   "execution_count": 101,
   "id": "245844ea",
   "metadata": {},
   "outputs": [
    {
     "data": {
      "text/html": [
       "<div>\n",
       "<style scoped>\n",
       "    .dataframe tbody tr th:only-of-type {\n",
       "        vertical-align: middle;\n",
       "    }\n",
       "\n",
       "    .dataframe tbody tr th {\n",
       "        vertical-align: top;\n",
       "    }\n",
       "\n",
       "    .dataframe thead th {\n",
       "        text-align: right;\n",
       "    }\n",
       "</style>\n",
       "<table border=\"1\" class=\"dataframe\">\n",
       "  <thead>\n",
       "    <tr style=\"text-align: right;\">\n",
       "      <th></th>\n",
       "      <th>id_client</th>\n",
       "      <th>id_group</th>\n",
       "      <th>sum_pay</th>\n",
       "      <th>id_point</th>\n",
       "      <th>months_reg</th>\n",
       "    </tr>\n",
       "  </thead>\n",
       "  <tbody>\n",
       "    <tr>\n",
       "      <th>1</th>\n",
       "      <td>1390221</td>\n",
       "      <td>0</td>\n",
       "      <td>1267.0</td>\n",
       "      <td>1182.0</td>\n",
       "      <td>11</td>\n",
       "    </tr>\n",
       "    <tr>\n",
       "      <th>10</th>\n",
       "      <td>1391349</td>\n",
       "      <td>0</td>\n",
       "      <td>3975.0</td>\n",
       "      <td>1182.0</td>\n",
       "      <td>12</td>\n",
       "    </tr>\n",
       "    <tr>\n",
       "      <th>14</th>\n",
       "      <td>1390207</td>\n",
       "      <td>0</td>\n",
       "      <td>454.0</td>\n",
       "      <td>1182.0</td>\n",
       "      <td>1</td>\n",
       "    </tr>\n",
       "    <tr>\n",
       "      <th>19</th>\n",
       "      <td>1391351</td>\n",
       "      <td>1</td>\n",
       "      <td>7615.0</td>\n",
       "      <td>1182.0</td>\n",
       "      <td>6</td>\n",
       "    </tr>\n",
       "    <tr>\n",
       "      <th>23</th>\n",
       "      <td>1390990</td>\n",
       "      <td>0</td>\n",
       "      <td>399.0</td>\n",
       "      <td>1182.0</td>\n",
       "      <td>5</td>\n",
       "    </tr>\n",
       "  </tbody>\n",
       "</table>\n",
       "</div>"
      ],
      "text/plain": [
       "    id_client  id_group  sum_pay  id_point  months_reg\n",
       "1     1390221         0   1267.0    1182.0          11\n",
       "10    1391349         0   3975.0    1182.0          12\n",
       "14    1390207         0    454.0    1182.0           1\n",
       "19    1391351         1   7615.0    1182.0           6\n",
       "23    1390990         0    399.0    1182.0           5"
      ]
     },
     "execution_count": 101,
     "metadata": {},
     "output_type": "execute_result"
    }
   ],
   "source": [
    "# т.к. видно большие вбросы по пункту 1188, проверим что там такое и найдем все те же 79 оплат, что были выявлены ранее\n",
    "sc_1188 = sc[sc['id_point'] == 1182.0] \n",
    "sc_1188.head()"
   ]
  },
  {
   "cell_type": "code",
   "execution_count": 102,
   "id": "d9906aed",
   "metadata": {},
   "outputs": [
    {
     "data": {
      "image/png": "[encoded data removed]",
      "text/plain": [
       "<Figure size 720x504 with 1 Axes>"
      ]
     },
     "metadata": {
      "needs_background": "light"
     },
     "output_type": "display_data"
    }
   ],
   "source": [
    "plt.figure(figsize=(10,7))\n",
    "sns.histplot(sc_1188['sum_pay'])\n",
    "plt.title('Распределение длительности регистрации клиентов')\n",
    "plt.grid()\n",
    "plt.show()"
   ]
  },
  {
   "cell_type": "code",
   "execution_count": 78,
   "id": "5dfec76b",
   "metadata": {},
   "outputs": [],
   "source": [
    "sc_col = ['id_point', 'months_reg', 'sum_pay']"
   ]
  },
  {
   "cell_type": "code",
   "execution_count": 79,
   "id": "b664674d",
   "metadata": {},
   "outputs": [
    {
     "data": {
      "image/png": "[encoded data removed]",
      "text/plain": [
       "<Figure size 432x288 with 1 Axes>"
      ]
     },
     "metadata": {
      "needs_background": "light"
     },
     "output_type": "display_data"
    },
    {
     "data": {
      "image/png": "[encoded data removed]",
      "text/plain": [
       "<Figure size 432x288 with 1 Axes>"
      ]
     },
     "metadata": {
      "needs_background": "light"
     },
     "output_type": "display_data"
    },
    {
     "data": {
      "image/png": "[encoded data removed]",
      "text/plain": [
       "<Figure size 432x288 with 1 Axes>"
      ]
     },
     "metadata": {
      "needs_background": "light"
     },
     "output_type": "display_data"
    }
   ],
   "source": [
    "# цикл для построения графика\n",
    "for col in sc_col:\n",
    "    sns.kdeplot(sc[col])\n",
    "    plt.title(f'Распредеелние метрики {col}')\n",
    "    plt.show()"
   ]
  }
 ],
 "metadata": {
  "kernelspec": {
   "display_name": "Python 3 (ipykernel)",
   "language": "python",
   "name": "python3"
  },
  "language_info": {
   "codemirror_mode": {
    "name": "ipython",
    "version": 3
   },
   "file_extension": ".py",
   "mimetype": "text/x-python",
   "name": "python",
   "nbconvert_exporter": "python",
   "pygments_lexer": "ipython3",
   "version": "3.9.12"
  }
 },
 "nbformat": 4,
 "nbformat_minor": 5
}
