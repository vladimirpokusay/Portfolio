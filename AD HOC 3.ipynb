{
 "cells": [
  {
   "cell_type": "markdown",
   "metadata": {
    "id": "ENHb2SxEaTho"
   },
   "source": [
    "## Что нужно сделать?\n",
    "\n",
    "Необходимо настроить в компании репортинг ключевых показателей бизнеса таким образом, чтобы каждый сотрудник получал регулярный отчет только по тем метрикам, которые важны для его работы и доступны на его должности.\n",
    "\n",
    "Для начала изучим, какие данные нам доступны:"
   ]
  },
  {
   "cell_type": "code",
   "execution_count": 1,
   "metadata": {
    "id": "IwtYCW_DaTh3"
   },
   "outputs": [],
   "source": [
    "staff = { #  словарь со списком сотрудников компании и их должностями\n",
    "    'Ирина':'Customer Support',\n",
    "    'Иван':'Customer Support',\n",
    "    'Дмитрий':'Marketing',\n",
    "    'Ольга':'CPO',\n",
    "    'Анастасия':'Sales',\n",
    "    'Александр':'Sales',\n",
    "}\n",
    "\n",
    "metrics = { #  словарь со списком ключевых показателей бизнеса, которые необходимы и доступны для каждой должности\n",
    "    'Customer Support': ['Retention', 'MAU',],\n",
    "    'Sales': ['New Users',],\n",
    "    'Marketing': ['New Orders',],\n",
    "    'CPO': ['Retention', 'MAU','New Users','New Orders', 'C1'], # как видите, директор по продукту следит за всеми метриками!  \n",
    "    'Intern': ['Retention', 'New Users','New Orders']\n",
    "}\n",
    "\n",
    "\n",
    "data = { #  словарь с заранее подготовленными значениями метрик по месяцам, которые мы будем использовать в ежемесячных отчетах\n",
    "    '2020-01-01':{\n",
    "        'MAU':12300, # общее количество уникальных пользователей за месяц, которые воспользовались нашим сервисом\n",
    "        'Retention':0.88, # доля от общего количества пользователей прошлого месяца, которая вернулась в наш сервис в текущем месяце\n",
    "        'New Users':9012, # количество новых пользователей в нашем сервисе\n",
    "        'New Orders': 1404 # количество новых заказов от новых пользователей нашего сервиса\n",
    "    },\n",
    "    '2020-02-01':{'MAU':11432,'Retention':0.75, 'New Users':12011, 'New Orders':2443 },\n",
    "    '2020-03-01':{'MAU':13348,'Retention':0.89, 'New Users':8732, 'New Orders':1454 },\n",
    "    '2020-04-01':{'MAU':13400,'Retention':0.93, 'New Users':9342, 'New Orders':2235 },\n",
    "    '2020-05-01':{'MAU':13354,'Retention':0.79, 'New Users':11032, 'New Orders':4402 }\n",
    "}"
   ]
  },
  {
   "cell_type": "markdown",
   "metadata": {
    "id": "HGNv3mx2aTh7"
   },
   "source": [
    "## Задание 1\n",
    "\n",
    "Напиши функцию, которая получает дату строкой в формате `%d.%m.%Y` (например, `31.12.2020`), а возвращает строкой в формате `%Y-%m-%d` (например, `2020-12-31` – именно в таком формате указывается дата в словаре с данными метрик `data`)."
   ]
  },
  {
   "cell_type": "code",
   "execution_count": 1,
   "metadata": {
    "id": "DcZa_2bQaTh8"
   },
   "outputs": [
    {
     "data": {
      "text/plain": [
       "'2020-12-31'"
      ]
     },
     "execution_count": 1,
     "metadata": {},
     "output_type": "execute_result"
    }
   ],
   "source": [
    "from datetime import datetime\n",
    "\n",
    "def modify_time(time):\n",
    "    a = time.split('.')\n",
    "    a.reverse()         \n",
    "    return '-'.join(a)\n",
    "\n",
    "modify_time('31.12.2020')"
   ]
  },
  {
   "cell_type": "markdown",
   "metadata": {
    "id": "ALH_DfaHaTh9"
   },
   "source": [
    "## Задание 2\n",
    "\n",
    "Теперь напиши функцию, которая получает на вход дату строкой в формате `%d.%m.%Y` и отдает все значения метрик, которые были зафиксированы в этот день, в виде словаря. Если за указанную дату показателей еще нет (то есть такой даты нет в словаре), то функция должна вернуть строку `'Нет данных'`. "
   ]
  },
  {
   "cell_type": "code",
   "execution_count": 3,
   "metadata": {
    "id": "EIfak1h3aTh-"
   },
   "outputs": [
    {
     "data": {
      "text/plain": [
       "{'MAU': 11432, 'Retention': 0.75, 'New Users': 12011, 'New Orders': 2443}"
      ]
     },
     "execution_count": 3,
     "metadata": {},
     "output_type": "execute_result"
    }
   ],
   "source": [
    "# Hint: тебе поможет метод dict.get(). Не забывай, что у dict.get() есть второй аргумент: значение, которое вернется, если в словаре нет искомого ключа\n",
    "\n",
    "# написанную функцию можно проверить, передав в аргумент дату 01.02.2020\n",
    "\n",
    "def get_metrics(date):\n",
    "    a = data.get(modify_time(date))\n",
    "    if a is None:\n",
    "        return 'Нет данных'\n",
    "    else:\n",
    "        return a\n",
    "\n",
    "get_metrics('01.02.2020') "
   ]
  },
  {
   "cell_type": "markdown",
   "metadata": {
    "id": "PZ0LVX3paTh_"
   },
   "source": [
    "## Задание 3\n",
    "\n",
    "Напиши функцию, которая получает на вход имя сотрудника и отдает набор метрик из словаря `metrics`, которые необходимы человеку на этой позиции. Значения метрик находить пока не нужно — это сделаем на следующем шаге."
   ]
  },
  {
   "cell_type": "code",
   "execution_count": 4,
   "metadata": {
    "id": "hcSNSZ6taTh_"
   },
   "outputs": [
    {
     "data": {
      "text/plain": [
       "['Retention', 'MAU', 'New Users', 'New Orders', 'C1']"
      ]
     },
     "execution_count": 4,
     "metadata": {},
     "output_type": "execute_result"
    }
   ],
   "source": [
    "# написанную функцию можно проверить, передав строкой в аргумент имя одного из сотрудников. Например, «Ольга»\n",
    "\n",
    "def get_metrics_for_name(name):\n",
    "    position = staff.get(name)\n",
    "    return metrics.get(position)\n",
    "\n",
    "get_metrics_for_name('Ольга')\n",
    "    "
   ]
  },
  {
   "cell_type": "markdown",
   "metadata": {
    "id": "Gxvz8cFQaTiA"
   },
   "source": [
    "## Задание 4\n",
    "\n",
    "Напиши функцию, которая получает на вход имя и дату и отдает все значения метрик за указанный день (тоже в виде словаря), которые необходимы человеку на его позиции."
   ]
  },
  {
   "cell_type": "code",
   "execution_count": 5,
   "metadata": {
    "id": "pYx6xCR2aTiB"
   },
   "outputs": [
    {
     "name": "stdout",
     "output_type": "stream",
     "text": [
      "{'Retention': 0.75, 'MAU': 11432, 'New Users': 12011, 'New Orders': 2443, 'C1': 0.2034}\n",
      "{'Retention': 0.89, 'MAU': 13348}\n",
      "{'New Orders': 2235}\n"
     ]
    }
   ],
   "source": [
    "# если предыдущие задания готовы, используй функции оттуда. \n",
    "# написанную функцию можно проверить, передав в аргументы имя одного из сотрудников и дату. Например, «Ольга» и «01.02.2020»\n",
    "\n",
    "def get_metrics_for_name_and_date(name, date):\n",
    "    \n",
    "    time = modify_time(date) #приводим дату в норм вид\n",
    "    metrics_for_date = get_metrics(time) #получаем метрики по дате\n",
    "    metrics_for_name = get_metrics_for_name(name) #получаем метрики по имени\n",
    "    metrics_for_return = {}\n",
    "    \n",
    "    for i in metrics_for_name:\n",
    "        if i == 'C1':\n",
    "            metrics_for_return[i] = round(metrics_for_date.get('New Orders') / metrics_for_date.get('New Users'),4)\n",
    "        else:            \n",
    "            metrics_for_return[i] = metrics_for_date.get(i)\n",
    "    \n",
    "    return metrics_for_return\n",
    "          \n",
    "print(get_metrics_for_name_and_date('Ольга', '01.02.2020'))\n",
    "print(get_metrics_for_name_and_date('Иван', '01.03.2020'))\n",
    "print(get_metrics_for_name_and_date('Дмитрий', '01.04.2020'))"
   ]
  },
  {
   "cell_type": "markdown",
   "metadata": {
    "id": "uvALY1k4aTiB"
   },
   "source": [
    "## Задание 5\n",
    "\n",
    "Теперь давай приведем выгрузку данных к красивому формату:\n",
    "\n",
    "__«Добрый день, {имя}! Для тебя есть интересные данные за {дата}: {метрики}»__"
   ]
  },
  {
   "cell_type": "code",
   "execution_count": 6,
   "metadata": {
    "id": "lQqLEFfyaTiC"
   },
   "outputs": [
    {
     "name": "stdout",
     "output_type": "stream",
     "text": [
      "Добрый день, Иван! Для тебя есть интересные данные за 01.02.2020: {'Retention': 0.75, 'MAU': 11432}\n"
     ]
    }
   ],
   "source": [
    "name = 'Иван'\n",
    "date = '01.02.2020'\n",
    "metrs = list(get_metrics_for_name_and_date(name, date).keys())\n",
    "message = 'Добрый день, {}! Для тебя есть интересные данные за {}: {}'.format(name,date, ', '.join(metrs)) #только метрики, без значений\n",
    "#print(message)\n",
    "message = 'Добрый день, {}! Для тебя есть интересные данные за {}: {}'.format(name,date,get_metrics_for_name_and_date(name, date)) #метрики со значениями\n",
    "print(message)"
   ]
  }
 ],
 "metadata": {
  "colab": {
   "name": "Python_1.3_homework.ipynb",
   "provenance": []
  },
  "kernelspec": {
   "display_name": "Python 3 (ipykernel)",
   "language": "python",
   "name": "python3"
  },
  "language_info": {
   "codemirror_mode": {
    "name": "ipython",
    "version": 3
   },
   "file_extension": ".py",
   "mimetype": "text/x-python",
   "name": "python",
   "nbconvert_exporter": "python",
   "pygments_lexer": "ipython3",
   "version": "3.9.12"
  }
 },
 "nbformat": 4,
 "nbformat_minor": 1
}
